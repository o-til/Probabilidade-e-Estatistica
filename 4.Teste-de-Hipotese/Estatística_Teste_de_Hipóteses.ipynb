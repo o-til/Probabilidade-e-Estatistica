{
  "nbformat": 4,
  "nbformat_minor": 0,
  "metadata": {
    "colab": {
      "provenance": []
    },
    "kernelspec": {
      "name": "python3",
      "display_name": "Python 3"
    },
    "language_info": {
      "name": "python"
    }
  },
  "cells": [
    {
      "cell_type": "code",
      "execution_count": null,
      "metadata": {
        "id": "SYrCNlYe9_j7"
      },
      "outputs": [],
      "source": [
        "import pandas as pd\n",
        "import numpy as np\n",
        "import matplotlib.pyplot as plt\n",
        "import seaborn as sns\n",
        "from scipy.stats import stats, sem\n",
        "from scipy.stats import f_oneway, pearsonr\n",
        "from statsmodels.stats.proportion import proportion_effectsize\n",
        "from statsmodels.stats.power import NormalIndPower, TTestIndPower\n",
        "from statsmodels.stats.weightstats import ztest, ttest_ind\n",
        "from scipy.stats import chi2_contingency, shapiro, t\n"
      ]
    },
    {
      "cell_type": "code",
      "source": [
        "#montagem do drive\n",
        "from google.colab import drive\n",
        "drive.mount('/content/drive')"
      ],
      "metadata": {
        "colab": {
          "base_uri": "https://localhost:8080/"
        },
        "id": "HVXCDk4oFHjM",
        "outputId": "645fb468-66a1-4cfb-e29c-cb831a900e94"
      },
      "execution_count": null,
      "outputs": [
        {
          "output_type": "stream",
          "name": "stdout",
          "text": [
            "Drive already mounted at /content/drive; to attempt to forcibly remount, call drive.mount(\"/content/drive\", force_remount=True).\n"
          ]
        }
      ]
    },
    {
      "cell_type": "code",
      "source": [
        "url_test = '/content/drive/MyDrive/Colab Notebooks/teste_de_hipotese/experimento_teste_ab.csv'\n",
        "url_pacient = '/content/drive/MyDrive/Colab Notebooks/teste_de_hipotese/pacientes.csv'"
      ],
      "metadata": {
        "id": "SSVytLBLFUYX"
      },
      "execution_count": null,
      "outputs": []
    },
    {
      "cell_type": "code",
      "source": [
        "df_test = pd.read_csv(url_test)\n",
        "df_pacient = pd.read_csv(url_pacient)"
      ],
      "metadata": {
        "id": "cXS6irDhGmKX"
      },
      "execution_count": null,
      "outputs": []
    },
    {
      "cell_type": "code",
      "source": [
        "df_test.head()"
      ],
      "metadata": {
        "colab": {
          "base_uri": "https://localhost:8080/",
          "height": 206
        },
        "id": "AyQkf_bsHGmE",
        "outputId": "dbbebf94-ab0f-4cf7-e7ba-4d35b1ae1d21"
      },
      "execution_count": null,
      "outputs": [
        {
          "output_type": "execute_result",
          "data": {
            "text/plain": [
              "   Visitante_ID Versão_Página  Visualizações  Conversões\n",
              "0             1             A            167           1\n",
              "1             2             A            160           0\n",
              "2             3             A            170           0\n",
              "3             4             A            161           1\n",
              "4             5             A            104           0"
            ],
            "text/html": [
              "\n",
              "  <div id=\"df-12ba43f8-678f-455f-94b9-310d08abba44\" class=\"colab-df-container\">\n",
              "    <div>\n",
              "<style scoped>\n",
              "    .dataframe tbody tr th:only-of-type {\n",
              "        vertical-align: middle;\n",
              "    }\n",
              "\n",
              "    .dataframe tbody tr th {\n",
              "        vertical-align: top;\n",
              "    }\n",
              "\n",
              "    .dataframe thead th {\n",
              "        text-align: right;\n",
              "    }\n",
              "</style>\n",
              "<table border=\"1\" class=\"dataframe\">\n",
              "  <thead>\n",
              "    <tr style=\"text-align: right;\">\n",
              "      <th></th>\n",
              "      <th>Visitante_ID</th>\n",
              "      <th>Versão_Página</th>\n",
              "      <th>Visualizações</th>\n",
              "      <th>Conversões</th>\n",
              "    </tr>\n",
              "  </thead>\n",
              "  <tbody>\n",
              "    <tr>\n",
              "      <th>0</th>\n",
              "      <td>1</td>\n",
              "      <td>A</td>\n",
              "      <td>167</td>\n",
              "      <td>1</td>\n",
              "    </tr>\n",
              "    <tr>\n",
              "      <th>1</th>\n",
              "      <td>2</td>\n",
              "      <td>A</td>\n",
              "      <td>160</td>\n",
              "      <td>0</td>\n",
              "    </tr>\n",
              "    <tr>\n",
              "      <th>2</th>\n",
              "      <td>3</td>\n",
              "      <td>A</td>\n",
              "      <td>170</td>\n",
              "      <td>0</td>\n",
              "    </tr>\n",
              "    <tr>\n",
              "      <th>3</th>\n",
              "      <td>4</td>\n",
              "      <td>A</td>\n",
              "      <td>161</td>\n",
              "      <td>1</td>\n",
              "    </tr>\n",
              "    <tr>\n",
              "      <th>4</th>\n",
              "      <td>5</td>\n",
              "      <td>A</td>\n",
              "      <td>104</td>\n",
              "      <td>0</td>\n",
              "    </tr>\n",
              "  </tbody>\n",
              "</table>\n",
              "</div>\n",
              "    <div class=\"colab-df-buttons\">\n",
              "\n",
              "  <div class=\"colab-df-container\">\n",
              "    <button class=\"colab-df-convert\" onclick=\"convertToInteractive('df-12ba43f8-678f-455f-94b9-310d08abba44')\"\n",
              "            title=\"Convert this dataframe to an interactive table.\"\n",
              "            style=\"display:none;\">\n",
              "\n",
              "  <svg xmlns=\"http://www.w3.org/2000/svg\" height=\"24px\" viewBox=\"0 -960 960 960\">\n",
              "    <path d=\"M120-120v-720h720v720H120Zm60-500h600v-160H180v160Zm220 220h160v-160H400v160Zm0 220h160v-160H400v160ZM180-400h160v-160H180v160Zm440 0h160v-160H620v160ZM180-180h160v-160H180v160Zm440 0h160v-160H620v160Z\"/>\n",
              "  </svg>\n",
              "    </button>\n",
              "\n",
              "  <style>\n",
              "    .colab-df-container {\n",
              "      display:flex;\n",
              "      gap: 12px;\n",
              "    }\n",
              "\n",
              "    .colab-df-convert {\n",
              "      background-color: #E8F0FE;\n",
              "      border: none;\n",
              "      border-radius: 50%;\n",
              "      cursor: pointer;\n",
              "      display: none;\n",
              "      fill: #1967D2;\n",
              "      height: 32px;\n",
              "      padding: 0 0 0 0;\n",
              "      width: 32px;\n",
              "    }\n",
              "\n",
              "    .colab-df-convert:hover {\n",
              "      background-color: #E2EBFA;\n",
              "      box-shadow: 0px 1px 2px rgba(60, 64, 67, 0.3), 0px 1px 3px 1px rgba(60, 64, 67, 0.15);\n",
              "      fill: #174EA6;\n",
              "    }\n",
              "\n",
              "    .colab-df-buttons div {\n",
              "      margin-bottom: 4px;\n",
              "    }\n",
              "\n",
              "    [theme=dark] .colab-df-convert {\n",
              "      background-color: #3B4455;\n",
              "      fill: #D2E3FC;\n",
              "    }\n",
              "\n",
              "    [theme=dark] .colab-df-convert:hover {\n",
              "      background-color: #434B5C;\n",
              "      box-shadow: 0px 1px 3px 1px rgba(0, 0, 0, 0.15);\n",
              "      filter: drop-shadow(0px 1px 2px rgba(0, 0, 0, 0.3));\n",
              "      fill: #FFFFFF;\n",
              "    }\n",
              "  </style>\n",
              "\n",
              "    <script>\n",
              "      const buttonEl =\n",
              "        document.querySelector('#df-12ba43f8-678f-455f-94b9-310d08abba44 button.colab-df-convert');\n",
              "      buttonEl.style.display =\n",
              "        google.colab.kernel.accessAllowed ? 'block' : 'none';\n",
              "\n",
              "      async function convertToInteractive(key) {\n",
              "        const element = document.querySelector('#df-12ba43f8-678f-455f-94b9-310d08abba44');\n",
              "        const dataTable =\n",
              "          await google.colab.kernel.invokeFunction('convertToInteractive',\n",
              "                                                    [key], {});\n",
              "        if (!dataTable) return;\n",
              "\n",
              "        const docLinkHtml = 'Like what you see? Visit the ' +\n",
              "          '<a target=\"_blank\" href=https://colab.research.google.com/notebooks/data_table.ipynb>data table notebook</a>'\n",
              "          + ' to learn more about interactive tables.';\n",
              "        element.innerHTML = '';\n",
              "        dataTable['output_type'] = 'display_data';\n",
              "        await google.colab.output.renderOutput(dataTable, element);\n",
              "        const docLink = document.createElement('div');\n",
              "        docLink.innerHTML = docLinkHtml;\n",
              "        element.appendChild(docLink);\n",
              "      }\n",
              "    </script>\n",
              "  </div>\n",
              "\n",
              "\n",
              "<div id=\"df-6e81182a-2bfd-4b4f-99d9-11b27932c0d0\">\n",
              "  <button class=\"colab-df-quickchart\" onclick=\"quickchart('df-6e81182a-2bfd-4b4f-99d9-11b27932c0d0')\"\n",
              "            title=\"Suggest charts\"\n",
              "            style=\"display:none;\">\n",
              "\n",
              "<svg xmlns=\"http://www.w3.org/2000/svg\" height=\"24px\"viewBox=\"0 0 24 24\"\n",
              "     width=\"24px\">\n",
              "    <g>\n",
              "        <path d=\"M19 3H5c-1.1 0-2 .9-2 2v14c0 1.1.9 2 2 2h14c1.1 0 2-.9 2-2V5c0-1.1-.9-2-2-2zM9 17H7v-7h2v7zm4 0h-2V7h2v10zm4 0h-2v-4h2v4z\"/>\n",
              "    </g>\n",
              "</svg>\n",
              "  </button>\n",
              "\n",
              "<style>\n",
              "  .colab-df-quickchart {\n",
              "      --bg-color: #E8F0FE;\n",
              "      --fill-color: #1967D2;\n",
              "      --hover-bg-color: #E2EBFA;\n",
              "      --hover-fill-color: #174EA6;\n",
              "      --disabled-fill-color: #AAA;\n",
              "      --disabled-bg-color: #DDD;\n",
              "  }\n",
              "\n",
              "  [theme=dark] .colab-df-quickchart {\n",
              "      --bg-color: #3B4455;\n",
              "      --fill-color: #D2E3FC;\n",
              "      --hover-bg-color: #434B5C;\n",
              "      --hover-fill-color: #FFFFFF;\n",
              "      --disabled-bg-color: #3B4455;\n",
              "      --disabled-fill-color: #666;\n",
              "  }\n",
              "\n",
              "  .colab-df-quickchart {\n",
              "    background-color: var(--bg-color);\n",
              "    border: none;\n",
              "    border-radius: 50%;\n",
              "    cursor: pointer;\n",
              "    display: none;\n",
              "    fill: var(--fill-color);\n",
              "    height: 32px;\n",
              "    padding: 0;\n",
              "    width: 32px;\n",
              "  }\n",
              "\n",
              "  .colab-df-quickchart:hover {\n",
              "    background-color: var(--hover-bg-color);\n",
              "    box-shadow: 0 1px 2px rgba(60, 64, 67, 0.3), 0 1px 3px 1px rgba(60, 64, 67, 0.15);\n",
              "    fill: var(--button-hover-fill-color);\n",
              "  }\n",
              "\n",
              "  .colab-df-quickchart-complete:disabled,\n",
              "  .colab-df-quickchart-complete:disabled:hover {\n",
              "    background-color: var(--disabled-bg-color);\n",
              "    fill: var(--disabled-fill-color);\n",
              "    box-shadow: none;\n",
              "  }\n",
              "\n",
              "  .colab-df-spinner {\n",
              "    border: 2px solid var(--fill-color);\n",
              "    border-color: transparent;\n",
              "    border-bottom-color: var(--fill-color);\n",
              "    animation:\n",
              "      spin 1s steps(1) infinite;\n",
              "  }\n",
              "\n",
              "  @keyframes spin {\n",
              "    0% {\n",
              "      border-color: transparent;\n",
              "      border-bottom-color: var(--fill-color);\n",
              "      border-left-color: var(--fill-color);\n",
              "    }\n",
              "    20% {\n",
              "      border-color: transparent;\n",
              "      border-left-color: var(--fill-color);\n",
              "      border-top-color: var(--fill-color);\n",
              "    }\n",
              "    30% {\n",
              "      border-color: transparent;\n",
              "      border-left-color: var(--fill-color);\n",
              "      border-top-color: var(--fill-color);\n",
              "      border-right-color: var(--fill-color);\n",
              "    }\n",
              "    40% {\n",
              "      border-color: transparent;\n",
              "      border-right-color: var(--fill-color);\n",
              "      border-top-color: var(--fill-color);\n",
              "    }\n",
              "    60% {\n",
              "      border-color: transparent;\n",
              "      border-right-color: var(--fill-color);\n",
              "    }\n",
              "    80% {\n",
              "      border-color: transparent;\n",
              "      border-right-color: var(--fill-color);\n",
              "      border-bottom-color: var(--fill-color);\n",
              "    }\n",
              "    90% {\n",
              "      border-color: transparent;\n",
              "      border-bottom-color: var(--fill-color);\n",
              "    }\n",
              "  }\n",
              "</style>\n",
              "\n",
              "  <script>\n",
              "    async function quickchart(key) {\n",
              "      const quickchartButtonEl =\n",
              "        document.querySelector('#' + key + ' button');\n",
              "      quickchartButtonEl.disabled = true;  // To prevent multiple clicks.\n",
              "      quickchartButtonEl.classList.add('colab-df-spinner');\n",
              "      try {\n",
              "        const charts = await google.colab.kernel.invokeFunction(\n",
              "            'suggestCharts', [key], {});\n",
              "      } catch (error) {\n",
              "        console.error('Error during call to suggestCharts:', error);\n",
              "      }\n",
              "      quickchartButtonEl.classList.remove('colab-df-spinner');\n",
              "      quickchartButtonEl.classList.add('colab-df-quickchart-complete');\n",
              "    }\n",
              "    (() => {\n",
              "      let quickchartButtonEl =\n",
              "        document.querySelector('#df-6e81182a-2bfd-4b4f-99d9-11b27932c0d0 button');\n",
              "      quickchartButtonEl.style.display =\n",
              "        google.colab.kernel.accessAllowed ? 'block' : 'none';\n",
              "    })();\n",
              "  </script>\n",
              "</div>\n",
              "\n",
              "    </div>\n",
              "  </div>\n"
            ],
            "application/vnd.google.colaboratory.intrinsic+json": {
              "type": "dataframe",
              "variable_name": "df_test",
              "summary": "{\n  \"name\": \"df_test\",\n  \"rows\": 2000,\n  \"fields\": [\n    {\n      \"column\": \"Visitante_ID\",\n      \"properties\": {\n        \"dtype\": \"number\",\n        \"std\": 577,\n        \"min\": 1,\n        \"max\": 2000,\n        \"num_unique_values\": 2000,\n        \"samples\": [\n          1861,\n          354,\n          1334\n        ],\n        \"semantic_type\": \"\",\n        \"description\": \"\"\n      }\n    },\n    {\n      \"column\": \"Vers\\u00e3o_P\\u00e1gina\",\n      \"properties\": {\n        \"dtype\": \"category\",\n        \"num_unique_values\": 2,\n        \"samples\": [\n          \"B\",\n          \"A\"\n        ],\n        \"semantic_type\": \"\",\n        \"description\": \"\"\n      }\n    },\n    {\n      \"column\": \"Visualiza\\u00e7\\u00f5es\",\n      \"properties\": {\n        \"dtype\": \"number\",\n        \"std\": 28,\n        \"min\": 100,\n        \"max\": 199,\n        \"num_unique_values\": 100,\n        \"samples\": [\n          192,\n          107\n        ],\n        \"semantic_type\": \"\",\n        \"description\": \"\"\n      }\n    },\n    {\n      \"column\": \"Convers\\u00f5es\",\n      \"properties\": {\n        \"dtype\": \"number\",\n        \"std\": 0,\n        \"min\": 0,\n        \"max\": 1,\n        \"num_unique_values\": 2,\n        \"samples\": [\n          0,\n          1\n        ],\n        \"semantic_type\": \"\",\n        \"description\": \"\"\n      }\n    }\n  ]\n}"
            }
          },
          "metadata": {},
          "execution_count": 40
        }
      ]
    },
    {
      "cell_type": "markdown",
      "source": [
        "Considerando a base de dados experimento_test_ab.csv responda as\n",
        "questões abaixo:\n",
        "1. Qual dos cenários tem a maior taxa de conversão?\n"
      ],
      "metadata": {
        "id": "UQS5pMwxHDmK"
      }
    },
    {
      "cell_type": "code",
      "source": [
        "#calculando a taxa de conversão para cada grupo\n",
        "conversion_stats = df_test.groupby('Versão_Página').agg(\n",
        "    total_visitantes = ('Visitante_ID','count'),\n",
        "    total_conversões = ('Conversões','sum')\n",
        ")\n",
        "conversion_stats['Taxa_conversão'] = conversion_stats['total_conversões'] / conversion_stats['total_visitantes']\n",
        "print('Taxa de conversão para cada grupo:')\n",
        "print(conversion_stats)"
      ],
      "metadata": {
        "id": "stBDJK3-IGtE",
        "colab": {
          "base_uri": "https://localhost:8080/"
        },
        "outputId": "f7357e2e-8c22-41b0-df1e-47a2145ed90f"
      },
      "execution_count": null,
      "outputs": [
        {
          "output_type": "stream",
          "name": "stdout",
          "text": [
            "Taxa de conversão para cada grupo:\n",
            "               total_visitantes  total_conversões  Taxa_conversão\n",
            "Versão_Página                                                    \n",
            "A                          1000               105           0.105\n",
            "B                          1000               125           0.125\n"
          ]
        }
      ]
    },
    {
      "cell_type": "markdown",
      "source": [
        "2. Calcule qual o tamanho da amostra necessária para o desenvolvimento\n",
        "de um teste A/B, seguindo os seguintes critérios:\n",
        "* a. O cenário A, da base, como o inicial, que funciona hoje.\n",
        "* b. Considere 95% de confiança de que o efeito na conversão não foi aleatório com um nível de signicância de 5% (alpha = 0,05).\n",
        "* c. Também considere 80% de certeza conseguir capturar o efeito\n",
        "da nova abordagem.\n",
        "* d. O aumento para 10% de conversão\n"
      ],
      "metadata": {
        "id": "0Pc2A3yreEaB"
      }
    },
    {
      "cell_type": "code",
      "source": [
        "# Parâmetros\n",
        "p1 = 0.105\n",
        "p2 = 0.12\n",
        "alpha = 0.05\n",
        "power = 0.8\n",
        "\n",
        "# Z-scores\n",
        "z_alpha = 1.96  # para alpha = 0.05 (95% confiança)\n",
        "z_beta = 0.84   # para power = 0.8 (80% poder)\n",
        "\n",
        "# Média das proporções\n",
        "p_bar = (p1 + p2) / 2\n",
        "\n",
        "# Cálculo da amostra por grupo\n",
        "numerador = 2 * (z_alpha + z_beta)**2 * p_bar * (1 - p_bar)\n",
        "denominador = (p1 - p2)**2\n",
        "\n",
        "n = numerador / denominador\n",
        "print(f\"Tamanho de amostra necessário por grupo: {round(n)}\")"
      ],
      "metadata": {
        "id": "sz02Ivczix7f",
        "colab": {
          "base_uri": "https://localhost:8080/"
        },
        "outputId": "ac9d3343-2c1b-42c6-c3bf-93fb6d050c96"
      },
      "execution_count": null,
      "outputs": [
        {
          "output_type": "stream",
          "name": "stdout",
          "text": [
            "Tamanho de amostra necessário por grupo: 6958\n"
          ]
        }
      ]
    },
    {
      "cell_type": "code",
      "source": [
        "df_pacient.head()"
      ],
      "metadata": {
        "colab": {
          "base_uri": "https://localhost:8080/",
          "height": 206
        },
        "id": "-BCIvFVuV7Th",
        "outputId": "93c8b071-96f4-451b-889b-b7b50ba87920"
      },
      "execution_count": null,
      "outputs": [
        {
          "output_type": "execute_result",
          "data": {
            "text/plain": [
              "   Unnamed: 0  Pressao_Arterial  Idade  Genero  Etnia  Estado_Saude  \\\n",
              "0           0        142.755809     31       1      1             1   \n",
              "1           1        161.878468     35       1      1             0   \n",
              "2           2        161.508259     39       0      3             1   \n",
              "3           3        144.979408     43       1      3             1   \n",
              "4           4        162.502954     55       0      2             1   \n",
              "\n",
              "  Nome_Genero      Nome_Etnia                  Nome_Estado_Saude  \n",
              "0    Feminino  Afro-americano  Com condições de saúde adicionais  \n",
              "1    Feminino  Afro-americano                           Saudável  \n",
              "2   Masculino        Asiático  Com condições de saúde adicionais  \n",
              "3    Feminino        Asiático  Com condições de saúde adicionais  \n",
              "4   Masculino       Hispânico  Com condições de saúde adicionais  "
            ],
            "text/html": [
              "\n",
              "  <div id=\"df-cdf202b9-2002-4acb-89ac-56b41c44e5d8\" class=\"colab-df-container\">\n",
              "    <div>\n",
              "<style scoped>\n",
              "    .dataframe tbody tr th:only-of-type {\n",
              "        vertical-align: middle;\n",
              "    }\n",
              "\n",
              "    .dataframe tbody tr th {\n",
              "        vertical-align: top;\n",
              "    }\n",
              "\n",
              "    .dataframe thead th {\n",
              "        text-align: right;\n",
              "    }\n",
              "</style>\n",
              "<table border=\"1\" class=\"dataframe\">\n",
              "  <thead>\n",
              "    <tr style=\"text-align: right;\">\n",
              "      <th></th>\n",
              "      <th>Unnamed: 0</th>\n",
              "      <th>Pressao_Arterial</th>\n",
              "      <th>Idade</th>\n",
              "      <th>Genero</th>\n",
              "      <th>Etnia</th>\n",
              "      <th>Estado_Saude</th>\n",
              "      <th>Nome_Genero</th>\n",
              "      <th>Nome_Etnia</th>\n",
              "      <th>Nome_Estado_Saude</th>\n",
              "    </tr>\n",
              "  </thead>\n",
              "  <tbody>\n",
              "    <tr>\n",
              "      <th>0</th>\n",
              "      <td>0</td>\n",
              "      <td>142.755809</td>\n",
              "      <td>31</td>\n",
              "      <td>1</td>\n",
              "      <td>1</td>\n",
              "      <td>1</td>\n",
              "      <td>Feminino</td>\n",
              "      <td>Afro-americano</td>\n",
              "      <td>Com condições de saúde adicionais</td>\n",
              "    </tr>\n",
              "    <tr>\n",
              "      <th>1</th>\n",
              "      <td>1</td>\n",
              "      <td>161.878468</td>\n",
              "      <td>35</td>\n",
              "      <td>1</td>\n",
              "      <td>1</td>\n",
              "      <td>0</td>\n",
              "      <td>Feminino</td>\n",
              "      <td>Afro-americano</td>\n",
              "      <td>Saudável</td>\n",
              "    </tr>\n",
              "    <tr>\n",
              "      <th>2</th>\n",
              "      <td>2</td>\n",
              "      <td>161.508259</td>\n",
              "      <td>39</td>\n",
              "      <td>0</td>\n",
              "      <td>3</td>\n",
              "      <td>1</td>\n",
              "      <td>Masculino</td>\n",
              "      <td>Asiático</td>\n",
              "      <td>Com condições de saúde adicionais</td>\n",
              "    </tr>\n",
              "    <tr>\n",
              "      <th>3</th>\n",
              "      <td>3</td>\n",
              "      <td>144.979408</td>\n",
              "      <td>43</td>\n",
              "      <td>1</td>\n",
              "      <td>3</td>\n",
              "      <td>1</td>\n",
              "      <td>Feminino</td>\n",
              "      <td>Asiático</td>\n",
              "      <td>Com condições de saúde adicionais</td>\n",
              "    </tr>\n",
              "    <tr>\n",
              "      <th>4</th>\n",
              "      <td>4</td>\n",
              "      <td>162.502954</td>\n",
              "      <td>55</td>\n",
              "      <td>0</td>\n",
              "      <td>2</td>\n",
              "      <td>1</td>\n",
              "      <td>Masculino</td>\n",
              "      <td>Hispânico</td>\n",
              "      <td>Com condições de saúde adicionais</td>\n",
              "    </tr>\n",
              "  </tbody>\n",
              "</table>\n",
              "</div>\n",
              "    <div class=\"colab-df-buttons\">\n",
              "\n",
              "  <div class=\"colab-df-container\">\n",
              "    <button class=\"colab-df-convert\" onclick=\"convertToInteractive('df-cdf202b9-2002-4acb-89ac-56b41c44e5d8')\"\n",
              "            title=\"Convert this dataframe to an interactive table.\"\n",
              "            style=\"display:none;\">\n",
              "\n",
              "  <svg xmlns=\"http://www.w3.org/2000/svg\" height=\"24px\" viewBox=\"0 -960 960 960\">\n",
              "    <path d=\"M120-120v-720h720v720H120Zm60-500h600v-160H180v160Zm220 220h160v-160H400v160Zm0 220h160v-160H400v160ZM180-400h160v-160H180v160Zm440 0h160v-160H620v160ZM180-180h160v-160H180v160Zm440 0h160v-160H620v160Z\"/>\n",
              "  </svg>\n",
              "    </button>\n",
              "\n",
              "  <style>\n",
              "    .colab-df-container {\n",
              "      display:flex;\n",
              "      gap: 12px;\n",
              "    }\n",
              "\n",
              "    .colab-df-convert {\n",
              "      background-color: #E8F0FE;\n",
              "      border: none;\n",
              "      border-radius: 50%;\n",
              "      cursor: pointer;\n",
              "      display: none;\n",
              "      fill: #1967D2;\n",
              "      height: 32px;\n",
              "      padding: 0 0 0 0;\n",
              "      width: 32px;\n",
              "    }\n",
              "\n",
              "    .colab-df-convert:hover {\n",
              "      background-color: #E2EBFA;\n",
              "      box-shadow: 0px 1px 2px rgba(60, 64, 67, 0.3), 0px 1px 3px 1px rgba(60, 64, 67, 0.15);\n",
              "      fill: #174EA6;\n",
              "    }\n",
              "\n",
              "    .colab-df-buttons div {\n",
              "      margin-bottom: 4px;\n",
              "    }\n",
              "\n",
              "    [theme=dark] .colab-df-convert {\n",
              "      background-color: #3B4455;\n",
              "      fill: #D2E3FC;\n",
              "    }\n",
              "\n",
              "    [theme=dark] .colab-df-convert:hover {\n",
              "      background-color: #434B5C;\n",
              "      box-shadow: 0px 1px 3px 1px rgba(0, 0, 0, 0.15);\n",
              "      filter: drop-shadow(0px 1px 2px rgba(0, 0, 0, 0.3));\n",
              "      fill: #FFFFFF;\n",
              "    }\n",
              "  </style>\n",
              "\n",
              "    <script>\n",
              "      const buttonEl =\n",
              "        document.querySelector('#df-cdf202b9-2002-4acb-89ac-56b41c44e5d8 button.colab-df-convert');\n",
              "      buttonEl.style.display =\n",
              "        google.colab.kernel.accessAllowed ? 'block' : 'none';\n",
              "\n",
              "      async function convertToInteractive(key) {\n",
              "        const element = document.querySelector('#df-cdf202b9-2002-4acb-89ac-56b41c44e5d8');\n",
              "        const dataTable =\n",
              "          await google.colab.kernel.invokeFunction('convertToInteractive',\n",
              "                                                    [key], {});\n",
              "        if (!dataTable) return;\n",
              "\n",
              "        const docLinkHtml = 'Like what you see? Visit the ' +\n",
              "          '<a target=\"_blank\" href=https://colab.research.google.com/notebooks/data_table.ipynb>data table notebook</a>'\n",
              "          + ' to learn more about interactive tables.';\n",
              "        element.innerHTML = '';\n",
              "        dataTable['output_type'] = 'display_data';\n",
              "        await google.colab.output.renderOutput(dataTable, element);\n",
              "        const docLink = document.createElement('div');\n",
              "        docLink.innerHTML = docLinkHtml;\n",
              "        element.appendChild(docLink);\n",
              "      }\n",
              "    </script>\n",
              "  </div>\n",
              "\n",
              "\n",
              "<div id=\"df-27e04625-49ba-4e2e-b3e8-ffe8ae2192db\">\n",
              "  <button class=\"colab-df-quickchart\" onclick=\"quickchart('df-27e04625-49ba-4e2e-b3e8-ffe8ae2192db')\"\n",
              "            title=\"Suggest charts\"\n",
              "            style=\"display:none;\">\n",
              "\n",
              "<svg xmlns=\"http://www.w3.org/2000/svg\" height=\"24px\"viewBox=\"0 0 24 24\"\n",
              "     width=\"24px\">\n",
              "    <g>\n",
              "        <path d=\"M19 3H5c-1.1 0-2 .9-2 2v14c0 1.1.9 2 2 2h14c1.1 0 2-.9 2-2V5c0-1.1-.9-2-2-2zM9 17H7v-7h2v7zm4 0h-2V7h2v10zm4 0h-2v-4h2v4z\"/>\n",
              "    </g>\n",
              "</svg>\n",
              "  </button>\n",
              "\n",
              "<style>\n",
              "  .colab-df-quickchart {\n",
              "      --bg-color: #E8F0FE;\n",
              "      --fill-color: #1967D2;\n",
              "      --hover-bg-color: #E2EBFA;\n",
              "      --hover-fill-color: #174EA6;\n",
              "      --disabled-fill-color: #AAA;\n",
              "      --disabled-bg-color: #DDD;\n",
              "  }\n",
              "\n",
              "  [theme=dark] .colab-df-quickchart {\n",
              "      --bg-color: #3B4455;\n",
              "      --fill-color: #D2E3FC;\n",
              "      --hover-bg-color: #434B5C;\n",
              "      --hover-fill-color: #FFFFFF;\n",
              "      --disabled-bg-color: #3B4455;\n",
              "      --disabled-fill-color: #666;\n",
              "  }\n",
              "\n",
              "  .colab-df-quickchart {\n",
              "    background-color: var(--bg-color);\n",
              "    border: none;\n",
              "    border-radius: 50%;\n",
              "    cursor: pointer;\n",
              "    display: none;\n",
              "    fill: var(--fill-color);\n",
              "    height: 32px;\n",
              "    padding: 0;\n",
              "    width: 32px;\n",
              "  }\n",
              "\n",
              "  .colab-df-quickchart:hover {\n",
              "    background-color: var(--hover-bg-color);\n",
              "    box-shadow: 0 1px 2px rgba(60, 64, 67, 0.3), 0 1px 3px 1px rgba(60, 64, 67, 0.15);\n",
              "    fill: var(--button-hover-fill-color);\n",
              "  }\n",
              "\n",
              "  .colab-df-quickchart-complete:disabled,\n",
              "  .colab-df-quickchart-complete:disabled:hover {\n",
              "    background-color: var(--disabled-bg-color);\n",
              "    fill: var(--disabled-fill-color);\n",
              "    box-shadow: none;\n",
              "  }\n",
              "\n",
              "  .colab-df-spinner {\n",
              "    border: 2px solid var(--fill-color);\n",
              "    border-color: transparent;\n",
              "    border-bottom-color: var(--fill-color);\n",
              "    animation:\n",
              "      spin 1s steps(1) infinite;\n",
              "  }\n",
              "\n",
              "  @keyframes spin {\n",
              "    0% {\n",
              "      border-color: transparent;\n",
              "      border-bottom-color: var(--fill-color);\n",
              "      border-left-color: var(--fill-color);\n",
              "    }\n",
              "    20% {\n",
              "      border-color: transparent;\n",
              "      border-left-color: var(--fill-color);\n",
              "      border-top-color: var(--fill-color);\n",
              "    }\n",
              "    30% {\n",
              "      border-color: transparent;\n",
              "      border-left-color: var(--fill-color);\n",
              "      border-top-color: var(--fill-color);\n",
              "      border-right-color: var(--fill-color);\n",
              "    }\n",
              "    40% {\n",
              "      border-color: transparent;\n",
              "      border-right-color: var(--fill-color);\n",
              "      border-top-color: var(--fill-color);\n",
              "    }\n",
              "    60% {\n",
              "      border-color: transparent;\n",
              "      border-right-color: var(--fill-color);\n",
              "    }\n",
              "    80% {\n",
              "      border-color: transparent;\n",
              "      border-right-color: var(--fill-color);\n",
              "      border-bottom-color: var(--fill-color);\n",
              "    }\n",
              "    90% {\n",
              "      border-color: transparent;\n",
              "      border-bottom-color: var(--fill-color);\n",
              "    }\n",
              "  }\n",
              "</style>\n",
              "\n",
              "  <script>\n",
              "    async function quickchart(key) {\n",
              "      const quickchartButtonEl =\n",
              "        document.querySelector('#' + key + ' button');\n",
              "      quickchartButtonEl.disabled = true;  // To prevent multiple clicks.\n",
              "      quickchartButtonEl.classList.add('colab-df-spinner');\n",
              "      try {\n",
              "        const charts = await google.colab.kernel.invokeFunction(\n",
              "            'suggestCharts', [key], {});\n",
              "      } catch (error) {\n",
              "        console.error('Error during call to suggestCharts:', error);\n",
              "      }\n",
              "      quickchartButtonEl.classList.remove('colab-df-spinner');\n",
              "      quickchartButtonEl.classList.add('colab-df-quickchart-complete');\n",
              "    }\n",
              "    (() => {\n",
              "      let quickchartButtonEl =\n",
              "        document.querySelector('#df-27e04625-49ba-4e2e-b3e8-ffe8ae2192db button');\n",
              "      quickchartButtonEl.style.display =\n",
              "        google.colab.kernel.accessAllowed ? 'block' : 'none';\n",
              "    })();\n",
              "  </script>\n",
              "</div>\n",
              "\n",
              "    </div>\n",
              "  </div>\n"
            ],
            "application/vnd.google.colaboratory.intrinsic+json": {
              "type": "dataframe",
              "variable_name": "df_pacient",
              "summary": "{\n  \"name\": \"df_pacient\",\n  \"rows\": 1000,\n  \"fields\": [\n    {\n      \"column\": \"Unnamed: 0\",\n      \"properties\": {\n        \"dtype\": \"number\",\n        \"std\": 288,\n        \"min\": 0,\n        \"max\": 999,\n        \"num_unique_values\": 1000,\n        \"samples\": [\n          521,\n          737,\n          740\n        ],\n        \"semantic_type\": \"\",\n        \"description\": \"\"\n      }\n    },\n    {\n      \"column\": \"Pressao_Arterial\",\n      \"properties\": {\n        \"dtype\": \"number\",\n        \"std\": 9.943612581359616,\n        \"min\": 112.92982068924913,\n        \"max\": 181.80313088710068,\n        \"num_unique_values\": 1000,\n        \"samples\": [\n          152.04119412297098,\n          147.54391492523183,\n          168.8184130751253\n        ],\n        \"semantic_type\": \"\",\n        \"description\": \"\"\n      }\n    },\n    {\n      \"column\": \"Idade\",\n      \"properties\": {\n        \"dtype\": \"number\",\n        \"std\": 11,\n        \"min\": 30,\n        \"max\": 70,\n        \"num_unique_values\": 41,\n        \"samples\": [\n          30,\n          65,\n          57\n        ],\n        \"semantic_type\": \"\",\n        \"description\": \"\"\n      }\n    },\n    {\n      \"column\": \"Genero\",\n      \"properties\": {\n        \"dtype\": \"number\",\n        \"std\": 0,\n        \"min\": 0,\n        \"max\": 1,\n        \"num_unique_values\": 2,\n        \"samples\": [\n          0,\n          1\n        ],\n        \"semantic_type\": \"\",\n        \"description\": \"\"\n      }\n    },\n    {\n      \"column\": \"Etnia\",\n      \"properties\": {\n        \"dtype\": \"number\",\n        \"std\": 1,\n        \"min\": 0,\n        \"max\": 3,\n        \"num_unique_values\": 4,\n        \"samples\": [\n          3,\n          0\n        ],\n        \"semantic_type\": \"\",\n        \"description\": \"\"\n      }\n    },\n    {\n      \"column\": \"Estado_Saude\",\n      \"properties\": {\n        \"dtype\": \"number\",\n        \"std\": 0,\n        \"min\": 0,\n        \"max\": 1,\n        \"num_unique_values\": 2,\n        \"samples\": [\n          0,\n          1\n        ],\n        \"semantic_type\": \"\",\n        \"description\": \"\"\n      }\n    },\n    {\n      \"column\": \"Nome_Genero\",\n      \"properties\": {\n        \"dtype\": \"category\",\n        \"num_unique_values\": 2,\n        \"samples\": [\n          \"Masculino\",\n          \"Feminino\"\n        ],\n        \"semantic_type\": \"\",\n        \"description\": \"\"\n      }\n    },\n    {\n      \"column\": \"Nome_Etnia\",\n      \"properties\": {\n        \"dtype\": \"category\",\n        \"num_unique_values\": 4,\n        \"samples\": [\n          \"Asi\\u00e1tico\",\n          \"Caucasiano\"\n        ],\n        \"semantic_type\": \"\",\n        \"description\": \"\"\n      }\n    },\n    {\n      \"column\": \"Nome_Estado_Saude\",\n      \"properties\": {\n        \"dtype\": \"category\",\n        \"num_unique_values\": 2,\n        \"samples\": [\n          \"Saud\\u00e1vel\",\n          \"Com condi\\u00e7\\u00f5es de sa\\u00fade adicionais\"\n        ],\n        \"semantic_type\": \"\",\n        \"description\": \"\"\n      }\n    }\n  ]\n}"
            }
          },
          "metadata": {},
          "execution_count": 43
        }
      ]
    },
    {
      "cell_type": "markdown",
      "source": [
        "Verique a base pacientes.csv, os dados são ctícios. A sintetiza uma base\n",
        "de dados de um hospital que trata de pacientes com problemas cardíacos.\n",
        "Considere a base como a população, portanto as estatísticas da população\n",
        "são conhecidas. Responda as perguntas abaixo:\n",
        "3. Considerando uma amostra de 45 números que representam o index do\n",
        "dataframe, índices= ([909, 751, 402, 400, 726, 39, 184, 269, 255, 769,\n",
        "209, 715, 677, 381, 793, 697, 89, 280, 232, 756, 358, 36, 439, 768, 967,\n",
        "699, 473, 222, 89, 639, 883, 558, 757, 84, 907, 895, 217, 224, 311, 348,\n",
        "146, 505, 273, 957, 362]). Considerando essa amostra é possível dizer\n",
        "que a idade média das pessoas com problemas cardíacos é maior que\n",
        "50 anos? Nível de signicância igual a 5%.\n"
      ],
      "metadata": {
        "id": "wG_0jHLgT_WJ"
      }
    },
    {
      "cell_type": "code",
      "source": [
        "# Índices da amostra da questão 3\n",
        "indices_q3 = [909, 751, 402, 400, 726, 39, 184, 269, 255, 769,\n",
        "              209, 715, 677, 381, 793, 697, 89, 280, 232, 756,\n",
        "              358, 36, 439, 768, 967, 699, 473, 222, 89, 639,\n",
        "              883, 558, 757, 84, 907, 895, 217, 224, 311, 348,\n",
        "              146, 505, 273, 957, 362]\n",
        "\n",
        "# Amostra de idades\n",
        "amostra_idade = df_pacient.loc[indices_q3, \"Idade\"]\n",
        "\n",
        "# Parâmetros do teste\n",
        "mu = 50  # média populacional sob H0\n",
        "alpha = 0.05\n",
        "\n",
        "# Teste t unilateral (H1: média > 50)\n",
        "t_stat, p_value = stats.ttest_1samp(amostra_idade, popmean=mu)\n",
        "p_value_unilateral = p_value / 2  # cauda à direita\n",
        "\n",
        "# Verifica se a média da amostra é maior que 50\n",
        "media_amostra = amostra_idade.mean()\n",
        "resultado = \"Rejeita H0\" if (p_value_unilateral < alpha and media_amostra > mu) else \"Não rejeita H0\"\n",
        "\n",
        "media_amostra, t_stat, p_value_unilateral, resultado"
      ],
      "metadata": {
        "colab": {
          "base_uri": "https://localhost:8080/"
        },
        "id": "urEBIwNrUFBx",
        "outputId": "605b6b7a-7484-4e68-f09e-a0759e321596"
      },
      "execution_count": null,
      "outputs": [
        {
          "output_type": "stream",
          "name": "stderr",
          "text": [
            "<ipython-input-44-0217a73d029f>:16: DeprecationWarning: Please import `ttest_1samp` from the `scipy.stats` namespace; the `scipy.stats.stats` namespace is deprecated and will be removed in SciPy 2.0.0.\n",
            "  t_stat, p_value = stats.ttest_1samp(amostra_idade, popmean=mu)\n"
          ]
        },
        {
          "output_type": "execute_result",
          "data": {
            "text/plain": [
              "(np.float64(50.08888888888889),\n",
              " np.float64(0.052280983519350496),\n",
              " np.float64(0.4792707233816392),\n",
              " 'Não rejeita H0')"
            ]
          },
          "metadata": {},
          "execution_count": 44
        }
      ]
    },
    {
      "cell_type": "markdown",
      "source": [
        "4. Queremos entender que tipo de amostra estamos lidando se dividirmos\n",
        "os conjuntos em 2, sendo um com pessoas que têm condições de\n",
        "saúde adicionais e o outro com pessoas saudáveis. Seria dependente\n",
        "ou independente?"
      ],
      "metadata": {
        "id": "SwW9zWcuUGVh"
      }
    },
    {
      "cell_type": "code",
      "source": [
        "# Separar os grupos com e sem condições adicionais\n",
        "grupo_com_condicao = df_pacient[df_pacient[\"Nome_Estado_Saude\"] != \"Saudável\"]\n",
        "grupo_saudavel = df_pacient[df_pacient[\"Nome_Estado_Saude\"] == \"Saudável\"]\n",
        "\n",
        "# Verificar se os grupos têm interseção nos índices\n",
        "indices_com = set(grupo_com_condicao.index)\n",
        "indices_sem = set(grupo_saudavel.index)\n",
        "intersecao = indices_com & indices_sem\n",
        "\n",
        "# Verifica dependência com base na interseção de índices\n",
        "tipo_amostra = \"Dependente\" if len(intersecao) > 0 else \"Independente\"\n",
        "tipo_amostra\n"
      ],
      "metadata": {
        "colab": {
          "base_uri": "https://localhost:8080/",
          "height": 36
        },
        "id": "R0FsPBN8UIrJ",
        "outputId": "59231d05-761f-4e8b-cbeb-aab05875500f"
      },
      "execution_count": null,
      "outputs": [
        {
          "output_type": "execute_result",
          "data": {
            "text/plain": [
              "'Independente'"
            ],
            "application/vnd.google.colaboratory.intrinsic+json": {
              "type": "string"
            }
          },
          "metadata": {},
          "execution_count": 45
        }
      ]
    },
    {
      "cell_type": "markdown",
      "source": [
        "5. Agora considere o um conjunto de pessoas aleatória que representam\n",
        "o index do dataframe, índices = ([690, 894, 67, 201, 364, 19, 60, 319,\n",
        "588, 643, 855, 623, 530, 174, 105, 693, 6, 462, 973, 607, 811, 346, 354,966, 943, 372]), podemos dizer que a pressão arterial média para\n",
        "pacientes com condições de saúde adicionais é igual à pressão arterial\n",
        "média para pacientes sem condições adicionais de saúde? Considere o\n",
        "nível de signicância a 6%.\n"
      ],
      "metadata": {
        "id": "t1_xsM07UI9h"
      }
    },
    {
      "cell_type": "code",
      "source": [
        "indices_5 = [690, 894, 67, 201, 364, 19, 60, 319, 588, 643, 855, 623, 530, 174,\n",
        "             105, 693, 6, 462, 973, 607, 811, 346, 354, 966, 943, 372]\n",
        "amostra_5 = df_pacient.loc[indices_5]\n",
        "grupo_doente = amostra_5[amostra_5['Estado_Saude'] == 1]['Pressao_Arterial']\n",
        "grupo_saudavel = amostra_5[amostra_5['Estado_Saude'] == 0]['Pressao_Arterial']\n",
        "t_stat, p_valor = stats.ttest_ind(grupo_doente, grupo_saudavel)\n",
        "print(f'5. Teste t entre grupos de saúde:\\n- Média doentes: {grupo_doente.mean():.1f}\\n- Média saudáveis: {grupo_saudavel.mean():.1f}\\n- p-valor: {p_valor:.4f}\\n')"
      ],
      "metadata": {
        "colab": {
          "base_uri": "https://localhost:8080/"
        },
        "id": "dHpiXZ-MUPLx",
        "outputId": "73b7ced8-5479-4a8f-b271-478899a7f817"
      },
      "execution_count": null,
      "outputs": [
        {
          "output_type": "stream",
          "name": "stdout",
          "text": [
            "5. Teste t entre grupos de saúde:\n",
            "- Média doentes: 153.2\n",
            "- Média saudáveis: 152.9\n",
            "- p-valor: 0.9359\n",
            "\n"
          ]
        },
        {
          "output_type": "stream",
          "name": "stderr",
          "text": [
            "<ipython-input-46-7c17639c3e53>:6: DeprecationWarning: Please import `ttest_ind` from the `scipy.stats` namespace; the `scipy.stats.stats` namespace is deprecated and will be removed in SciPy 2.0.0.\n",
            "  t_stat, p_valor = stats.ttest_ind(grupo_doente, grupo_saudavel)\n"
          ]
        }
      ]
    },
    {
      "cell_type": "markdown",
      "source": [
        "6. Existe uma diferença signicativa na pressão arterial média entre\n",
        "diferentes grupos étnicos nesta população? (Teste ANOVA, alpha é 5%)\n",
        "a. Hipótese Nula (H0): A pressão arterial média é a mesma em todos\n",
        "os grupos étnicos.\n",
        "b. Hipótese Alternativa (H1): Há uma diferença signicativa na\n",
        "pressão arterial média entre pelo menos dois grupos étnicos\n",
        "nesta população.\n"
      ],
      "metadata": {
        "id": "OK6ByowoUPkp"
      }
    },
    {
      "cell_type": "code",
      "source": [
        "# ANOVA\n",
        "grupos = [group['Pressao_Arterial'].values for name, group in df_pacient.groupby('Nome_Etnia')]\n",
        "f_stat, p_value = stats.f_oneway(*grupos)\n",
        "p_value\n"
      ],
      "metadata": {
        "colab": {
          "base_uri": "https://localhost:8080/"
        },
        "id": "_2SL0nFlUShp",
        "outputId": "64fb9be4-4395-4f6c-c879-749071977777"
      },
      "execution_count": null,
      "outputs": [
        {
          "output_type": "stream",
          "name": "stderr",
          "text": [
            "<ipython-input-47-49cc797bf585>:3: DeprecationWarning: Please import `f_oneway` from the `scipy.stats` namespace; the `scipy.stats.stats` namespace is deprecated and will be removed in SciPy 2.0.0.\n",
            "  f_stat, p_value = stats.f_oneway(*grupos)\n"
          ]
        },
        {
          "output_type": "execute_result",
          "data": {
            "text/plain": [
              "np.float64(0.873800123850745)"
            ]
          },
          "metadata": {},
          "execution_count": 47
        }
      ]
    },
    {
      "cell_type": "markdown",
      "source": [
        "7. Lúcia é uma pesquisadora e tem o objetivo de entender a relação de\n",
        "gênero neste grupo de pacientes. Acredita-se que há uma relação\n",
        "entre o sexo e condições de saúde adicionais. (Teste qui-quadrado)"
      ],
      "metadata": {
        "id": "YaHtjtMxUS1R"
      }
    },
    {
      "cell_type": "code",
      "source": [
        "tabela = pd.crosstab(df_pacient['Genero'], df_pacient['Estado_Saude'])\n",
        "chi2, p_valor, _, _ = chi2_contingency(tabela)\n",
        "print(f'7. Teste qui-quadrado:\\n- Estatística χ²: {chi2:.2f}\\n- p-valor: {p_valor:.4f}\\n')"
      ],
      "metadata": {
        "colab": {
          "base_uri": "https://localhost:8080/"
        },
        "id": "uPSVt9j8UVBS",
        "outputId": "7f5de623-9fea-493d-801c-708b8b288468"
      },
      "execution_count": null,
      "outputs": [
        {
          "output_type": "stream",
          "name": "stdout",
          "text": [
            "7. Teste qui-quadrado:\n",
            "- Estatística χ²: 0.00\n",
            "- p-valor: 1.0000\n",
            "\n"
          ]
        }
      ]
    },
    {
      "cell_type": "markdown",
      "source": [
        "8. Existe uma associação entre a idade dos pacientes e sua pressão\n",
        "arterial?\n",
        "a. Hipótese Nula (H0): se a pressão arterial é independente da idade\n",
        "b. Hipótese Alternativa (H1): a pressão arterial esta associada a\n",
        "idade"
      ],
      "metadata": {
        "id": "vQomEg9-UXhq"
      }
    },
    {
      "cell_type": "code",
      "source": [
        "corr, p_value = stats.pearsonr(df_pacient['Idade'], df_pacient['Pressao_Arterial'])\n",
        "corr, p_value\n"
      ],
      "metadata": {
        "id": "pR5E134OUY36"
      },
      "execution_count": null,
      "outputs": []
    },
    {
      "cell_type": "markdown",
      "source": [
        "9. Qual é o intervalo de confiança para a média da pressão arterial entre\n",
        "os pacientes com condições de saúde adicionais? (nível de conança\n",
        "95%)"
      ],
      "metadata": {
        "id": "XMj6EUgtUa4i"
      }
    },
    {
      "cell_type": "code",
      "source": [
        "doentes = df_pacient[df_pacient['Estado_Saude'] == 1]['Pressao_Arterial']\n",
        "media = doentes.mean()\n",
        "erro = stats.sem(doentes) * t.ppf(0.975, len(doentes) - 1)\n",
        "print(f'9. IC 95% para pressão (doentes):\\n- ({media - erro:.1f}, {media + erro:.1f}) mmHg\\n')"
      ],
      "metadata": {
        "colab": {
          "base_uri": "https://localhost:8080/"
        },
        "id": "4LrZS9UDUbfS",
        "outputId": "4d4d1295-4586-44a2-9ace-0c0923f5ee7d"
      },
      "execution_count": null,
      "outputs": [
        {
          "output_type": "stream",
          "name": "stdout",
          "text": [
            "9. IC 95% para pressão (doentes):\n",
            "- (149.2, 151.0) mmHg\n",
            "\n"
          ]
        },
        {
          "output_type": "stream",
          "name": "stderr",
          "text": [
            "<ipython-input-54-9da31db6964f>:3: DeprecationWarning: Please import `sem` from the `scipy.stats` namespace; the `scipy.stats.stats` namespace is deprecated and will be removed in SciPy 2.0.0.\n",
            "  erro = stats.sem(doentes) * t.ppf(0.975, len(doentes) - 1)\n"
          ]
        }
      ]
    },
    {
      "cell_type": "markdown",
      "source": [
        "10. A distribuição da pressão arterial na população segue uma distribuição\n",
        "normal?\n",
        "a. Hipótese Nula (H0): A distribuição da pressão arterial na\n",
        "população segue uma distribuição normal.\n",
        "b. Hipótese Alternativa (H1): A distribuição da pressão arterial na\n",
        "população não segue uma distribuição normal."
      ],
      "metadata": {
        "id": "cijI-4EMUbtb"
      }
    },
    {
      "cell_type": "code",
      "source": [
        "stat, p_valor = shapiro(df_pacient['Pressao_Arterial'])\n",
        "print(f'10. Teste de normalidade (Shapiro-Wilk):\\n- Estatística W: {stat:.2f}\\n- p-valor: {p_valor:.4f}\\n')"
      ],
      "metadata": {
        "colab": {
          "base_uri": "https://localhost:8080/"
        },
        "id": "PyRaTK_GUdwa",
        "outputId": "93e694f4-4d12-4f36-d736-864b7d987a32"
      },
      "execution_count": null,
      "outputs": [
        {
          "output_type": "stream",
          "name": "stdout",
          "text": [
            "10. Teste de normalidade (Shapiro-Wilk):\n",
            "- Estatística W: 1.00\n",
            "- p-valor: 0.0607\n",
            "\n"
          ]
        }
      ]
    }
  ]
}