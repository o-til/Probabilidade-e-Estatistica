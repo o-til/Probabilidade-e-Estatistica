{
  "nbformat": 4,
  "nbformat_minor": 0,
  "metadata": {
    "colab": {
      "provenance": []
    },
    "kernelspec": {
      "name": "python3",
      "display_name": "Python 3"
    },
    "language_info": {
      "name": "python"
    }
  },
  "cells": [
    {
      "cell_type": "markdown",
      "source": [
        "## Analise das notas do Enem de 2023 (dados fictícios)\n",
        "Você é uma pesquisadora de um cursinho para estudantes que querem\n",
        "ingressar na universidade em 2025. Seu objetivo é retirar informações da base\n",
        "de dados do enem do ano anterior para alinhar melhor as estratégias do\n",
        "cursinho para cada estudante. O dado possui 6 colunas, 5 delas representam\n",
        "as disciplinas do ENEM e uma o gênero das pessoas que fizeram a prova. No\n",
        "dado existe a representação de 1000 pessoas, sendo cada uma delas uma\n",
        "linha.\n"
      ],
      "metadata": {
        "id": "09XUkC77gCQU"
      }
    },
    {
      "cell_type": "code",
      "execution_count": null,
      "metadata": {
        "id": "528F9FCeLa21"
      },
      "outputs": [],
      "source": [
        "import pandas as pd\n",
        "from tabulate import tabulate\n",
        "import numpy as np\n",
        "import seaborn as sns\n",
        "import matplotlib.pyplot as plt\n",
        "import scipy.stats as stats\n"
      ]
    },
    {
      "cell_type": "code",
      "source": [
        "from google.colab import drive\n",
        "drive.mount('/content/drive')"
      ],
      "metadata": {
        "colab": {
          "base_uri": "https://localhost:8080/"
        },
        "id": "PixVX-BlT1I6",
        "outputId": "cd2fe061-70d5-4c58-d158-cc2fc52216ad"
      },
      "execution_count": null,
      "outputs": [
        {
          "output_type": "stream",
          "name": "stdout",
          "text": [
            "Drive already mounted at /content/drive; to attempt to forcibly remount, call drive.mount(\"/content/drive\", force_remount=True).\n"
          ]
        }
      ]
    },
    {
      "cell_type": "code",
      "source": [
        "#Leitura do dataframe e visualização das primeiras linhas desse\n",
        "file_path = '/content/drive/MyDrive/enem_2023.json'\n",
        "df_enem = pd.read_json(file_path)\n",
        "df_enem.head(10)"
      ],
      "metadata": {
        "colab": {
          "base_uri": "https://localhost:8080/",
          "height": 363
        },
        "id": "VsuI3dyhVG05",
        "outputId": "a8e8d068-f359-40ad-fa13-3768a2314eb2"
      },
      "execution_count": null,
      "outputs": [
        {
          "output_type": "execute_result",
          "data": {
            "text/plain": [
              "   Linguagens  Ciências humanas  Ciências da natureza  Matemática     Redação  \\\n",
              "0  585.669300        686.512178            390.482473  452.281333  546.371706   \n",
              "1  359.384608        642.084134                   NaN  412.205207  741.825256   \n",
              "2  622.732384        495.510719            443.183580  669.683401  684.515750   \n",
              "3  350.164605        602.041588            413.979810  676.608952  671.237114   \n",
              "4  384.093657        489.249140            609.758123  520.426698  744.375048   \n",
              "5  616.043360        502.007005            497.777935  615.902547  507.365147   \n",
              "6  511.897593        479.197660            469.023899  441.139103  541.979136   \n",
              "7  377.439818        663.489624            556.239031  517.215575  635.424649   \n",
              "8  597.462934               NaN            483.223740  509.043317  499.676936   \n",
              "9  536.571398        594.007869                   NaN  595.562778  270.839965   \n",
              "\n",
              "     Sexo  \n",
              "0   Homem  \n",
              "1  Mulher  \n",
              "2   Homem  \n",
              "3   Homem  \n",
              "4   Homem  \n",
              "5   Homem  \n",
              "6  Mulher  \n",
              "7  Mulher  \n",
              "8  Mulher  \n",
              "9  Mulher  "
            ],
            "text/html": [
              "\n",
              "  <div id=\"df-e6f3be6f-814a-4a0f-bc93-56a7283f0abe\" class=\"colab-df-container\">\n",
              "    <div>\n",
              "<style scoped>\n",
              "    .dataframe tbody tr th:only-of-type {\n",
              "        vertical-align: middle;\n",
              "    }\n",
              "\n",
              "    .dataframe tbody tr th {\n",
              "        vertical-align: top;\n",
              "    }\n",
              "\n",
              "    .dataframe thead th {\n",
              "        text-align: right;\n",
              "    }\n",
              "</style>\n",
              "<table border=\"1\" class=\"dataframe\">\n",
              "  <thead>\n",
              "    <tr style=\"text-align: right;\">\n",
              "      <th></th>\n",
              "      <th>Linguagens</th>\n",
              "      <th>Ciências humanas</th>\n",
              "      <th>Ciências da natureza</th>\n",
              "      <th>Matemática</th>\n",
              "      <th>Redação</th>\n",
              "      <th>Sexo</th>\n",
              "    </tr>\n",
              "  </thead>\n",
              "  <tbody>\n",
              "    <tr>\n",
              "      <th>0</th>\n",
              "      <td>585.669300</td>\n",
              "      <td>686.512178</td>\n",
              "      <td>390.482473</td>\n",
              "      <td>452.281333</td>\n",
              "      <td>546.371706</td>\n",
              "      <td>Homem</td>\n",
              "    </tr>\n",
              "    <tr>\n",
              "      <th>1</th>\n",
              "      <td>359.384608</td>\n",
              "      <td>642.084134</td>\n",
              "      <td>NaN</td>\n",
              "      <td>412.205207</td>\n",
              "      <td>741.825256</td>\n",
              "      <td>Mulher</td>\n",
              "    </tr>\n",
              "    <tr>\n",
              "      <th>2</th>\n",
              "      <td>622.732384</td>\n",
              "      <td>495.510719</td>\n",
              "      <td>443.183580</td>\n",
              "      <td>669.683401</td>\n",
              "      <td>684.515750</td>\n",
              "      <td>Homem</td>\n",
              "    </tr>\n",
              "    <tr>\n",
              "      <th>3</th>\n",
              "      <td>350.164605</td>\n",
              "      <td>602.041588</td>\n",
              "      <td>413.979810</td>\n",
              "      <td>676.608952</td>\n",
              "      <td>671.237114</td>\n",
              "      <td>Homem</td>\n",
              "    </tr>\n",
              "    <tr>\n",
              "      <th>4</th>\n",
              "      <td>384.093657</td>\n",
              "      <td>489.249140</td>\n",
              "      <td>609.758123</td>\n",
              "      <td>520.426698</td>\n",
              "      <td>744.375048</td>\n",
              "      <td>Homem</td>\n",
              "    </tr>\n",
              "    <tr>\n",
              "      <th>5</th>\n",
              "      <td>616.043360</td>\n",
              "      <td>502.007005</td>\n",
              "      <td>497.777935</td>\n",
              "      <td>615.902547</td>\n",
              "      <td>507.365147</td>\n",
              "      <td>Homem</td>\n",
              "    </tr>\n",
              "    <tr>\n",
              "      <th>6</th>\n",
              "      <td>511.897593</td>\n",
              "      <td>479.197660</td>\n",
              "      <td>469.023899</td>\n",
              "      <td>441.139103</td>\n",
              "      <td>541.979136</td>\n",
              "      <td>Mulher</td>\n",
              "    </tr>\n",
              "    <tr>\n",
              "      <th>7</th>\n",
              "      <td>377.439818</td>\n",
              "      <td>663.489624</td>\n",
              "      <td>556.239031</td>\n",
              "      <td>517.215575</td>\n",
              "      <td>635.424649</td>\n",
              "      <td>Mulher</td>\n",
              "    </tr>\n",
              "    <tr>\n",
              "      <th>8</th>\n",
              "      <td>597.462934</td>\n",
              "      <td>NaN</td>\n",
              "      <td>483.223740</td>\n",
              "      <td>509.043317</td>\n",
              "      <td>499.676936</td>\n",
              "      <td>Mulher</td>\n",
              "    </tr>\n",
              "    <tr>\n",
              "      <th>9</th>\n",
              "      <td>536.571398</td>\n",
              "      <td>594.007869</td>\n",
              "      <td>NaN</td>\n",
              "      <td>595.562778</td>\n",
              "      <td>270.839965</td>\n",
              "      <td>Mulher</td>\n",
              "    </tr>\n",
              "  </tbody>\n",
              "</table>\n",
              "</div>\n",
              "    <div class=\"colab-df-buttons\">\n",
              "\n",
              "  <div class=\"colab-df-container\">\n",
              "    <button class=\"colab-df-convert\" onclick=\"convertToInteractive('df-e6f3be6f-814a-4a0f-bc93-56a7283f0abe')\"\n",
              "            title=\"Convert this dataframe to an interactive table.\"\n",
              "            style=\"display:none;\">\n",
              "\n",
              "  <svg xmlns=\"http://www.w3.org/2000/svg\" height=\"24px\" viewBox=\"0 -960 960 960\">\n",
              "    <path d=\"M120-120v-720h720v720H120Zm60-500h600v-160H180v160Zm220 220h160v-160H400v160Zm0 220h160v-160H400v160ZM180-400h160v-160H180v160Zm440 0h160v-160H620v160ZM180-180h160v-160H180v160Zm440 0h160v-160H620v160Z\"/>\n",
              "  </svg>\n",
              "    </button>\n",
              "\n",
              "  <style>\n",
              "    .colab-df-container {\n",
              "      display:flex;\n",
              "      gap: 12px;\n",
              "    }\n",
              "\n",
              "    .colab-df-convert {\n",
              "      background-color: #E8F0FE;\n",
              "      border: none;\n",
              "      border-radius: 50%;\n",
              "      cursor: pointer;\n",
              "      display: none;\n",
              "      fill: #1967D2;\n",
              "      height: 32px;\n",
              "      padding: 0 0 0 0;\n",
              "      width: 32px;\n",
              "    }\n",
              "\n",
              "    .colab-df-convert:hover {\n",
              "      background-color: #E2EBFA;\n",
              "      box-shadow: 0px 1px 2px rgba(60, 64, 67, 0.3), 0px 1px 3px 1px rgba(60, 64, 67, 0.15);\n",
              "      fill: #174EA6;\n",
              "    }\n",
              "\n",
              "    .colab-df-buttons div {\n",
              "      margin-bottom: 4px;\n",
              "    }\n",
              "\n",
              "    [theme=dark] .colab-df-convert {\n",
              "      background-color: #3B4455;\n",
              "      fill: #D2E3FC;\n",
              "    }\n",
              "\n",
              "    [theme=dark] .colab-df-convert:hover {\n",
              "      background-color: #434B5C;\n",
              "      box-shadow: 0px 1px 3px 1px rgba(0, 0, 0, 0.15);\n",
              "      filter: drop-shadow(0px 1px 2px rgba(0, 0, 0, 0.3));\n",
              "      fill: #FFFFFF;\n",
              "    }\n",
              "  </style>\n",
              "\n",
              "    <script>\n",
              "      const buttonEl =\n",
              "        document.querySelector('#df-e6f3be6f-814a-4a0f-bc93-56a7283f0abe button.colab-df-convert');\n",
              "      buttonEl.style.display =\n",
              "        google.colab.kernel.accessAllowed ? 'block' : 'none';\n",
              "\n",
              "      async function convertToInteractive(key) {\n",
              "        const element = document.querySelector('#df-e6f3be6f-814a-4a0f-bc93-56a7283f0abe');\n",
              "        const dataTable =\n",
              "          await google.colab.kernel.invokeFunction('convertToInteractive',\n",
              "                                                    [key], {});\n",
              "        if (!dataTable) return;\n",
              "\n",
              "        const docLinkHtml = 'Like what you see? Visit the ' +\n",
              "          '<a target=\"_blank\" href=https://colab.research.google.com/notebooks/data_table.ipynb>data table notebook</a>'\n",
              "          + ' to learn more about interactive tables.';\n",
              "        element.innerHTML = '';\n",
              "        dataTable['output_type'] = 'display_data';\n",
              "        await google.colab.output.renderOutput(dataTable, element);\n",
              "        const docLink = document.createElement('div');\n",
              "        docLink.innerHTML = docLinkHtml;\n",
              "        element.appendChild(docLink);\n",
              "      }\n",
              "    </script>\n",
              "  </div>\n",
              "\n",
              "\n",
              "<div id=\"df-476bb68d-7e67-49aa-9b35-08c7b69a0f02\">\n",
              "  <button class=\"colab-df-quickchart\" onclick=\"quickchart('df-476bb68d-7e67-49aa-9b35-08c7b69a0f02')\"\n",
              "            title=\"Suggest charts\"\n",
              "            style=\"display:none;\">\n",
              "\n",
              "<svg xmlns=\"http://www.w3.org/2000/svg\" height=\"24px\"viewBox=\"0 0 24 24\"\n",
              "     width=\"24px\">\n",
              "    <g>\n",
              "        <path d=\"M19 3H5c-1.1 0-2 .9-2 2v14c0 1.1.9 2 2 2h14c1.1 0 2-.9 2-2V5c0-1.1-.9-2-2-2zM9 17H7v-7h2v7zm4 0h-2V7h2v10zm4 0h-2v-4h2v4z\"/>\n",
              "    </g>\n",
              "</svg>\n",
              "  </button>\n",
              "\n",
              "<style>\n",
              "  .colab-df-quickchart {\n",
              "      --bg-color: #E8F0FE;\n",
              "      --fill-color: #1967D2;\n",
              "      --hover-bg-color: #E2EBFA;\n",
              "      --hover-fill-color: #174EA6;\n",
              "      --disabled-fill-color: #AAA;\n",
              "      --disabled-bg-color: #DDD;\n",
              "  }\n",
              "\n",
              "  [theme=dark] .colab-df-quickchart {\n",
              "      --bg-color: #3B4455;\n",
              "      --fill-color: #D2E3FC;\n",
              "      --hover-bg-color: #434B5C;\n",
              "      --hover-fill-color: #FFFFFF;\n",
              "      --disabled-bg-color: #3B4455;\n",
              "      --disabled-fill-color: #666;\n",
              "  }\n",
              "\n",
              "  .colab-df-quickchart {\n",
              "    background-color: var(--bg-color);\n",
              "    border: none;\n",
              "    border-radius: 50%;\n",
              "    cursor: pointer;\n",
              "    display: none;\n",
              "    fill: var(--fill-color);\n",
              "    height: 32px;\n",
              "    padding: 0;\n",
              "    width: 32px;\n",
              "  }\n",
              "\n",
              "  .colab-df-quickchart:hover {\n",
              "    background-color: var(--hover-bg-color);\n",
              "    box-shadow: 0 1px 2px rgba(60, 64, 67, 0.3), 0 1px 3px 1px rgba(60, 64, 67, 0.15);\n",
              "    fill: var(--button-hover-fill-color);\n",
              "  }\n",
              "\n",
              "  .colab-df-quickchart-complete:disabled,\n",
              "  .colab-df-quickchart-complete:disabled:hover {\n",
              "    background-color: var(--disabled-bg-color);\n",
              "    fill: var(--disabled-fill-color);\n",
              "    box-shadow: none;\n",
              "  }\n",
              "\n",
              "  .colab-df-spinner {\n",
              "    border: 2px solid var(--fill-color);\n",
              "    border-color: transparent;\n",
              "    border-bottom-color: var(--fill-color);\n",
              "    animation:\n",
              "      spin 1s steps(1) infinite;\n",
              "  }\n",
              "\n",
              "  @keyframes spin {\n",
              "    0% {\n",
              "      border-color: transparent;\n",
              "      border-bottom-color: var(--fill-color);\n",
              "      border-left-color: var(--fill-color);\n",
              "    }\n",
              "    20% {\n",
              "      border-color: transparent;\n",
              "      border-left-color: var(--fill-color);\n",
              "      border-top-color: var(--fill-color);\n",
              "    }\n",
              "    30% {\n",
              "      border-color: transparent;\n",
              "      border-left-color: var(--fill-color);\n",
              "      border-top-color: var(--fill-color);\n",
              "      border-right-color: var(--fill-color);\n",
              "    }\n",
              "    40% {\n",
              "      border-color: transparent;\n",
              "      border-right-color: var(--fill-color);\n",
              "      border-top-color: var(--fill-color);\n",
              "    }\n",
              "    60% {\n",
              "      border-color: transparent;\n",
              "      border-right-color: var(--fill-color);\n",
              "    }\n",
              "    80% {\n",
              "      border-color: transparent;\n",
              "      border-right-color: var(--fill-color);\n",
              "      border-bottom-color: var(--fill-color);\n",
              "    }\n",
              "    90% {\n",
              "      border-color: transparent;\n",
              "      border-bottom-color: var(--fill-color);\n",
              "    }\n",
              "  }\n",
              "</style>\n",
              "\n",
              "  <script>\n",
              "    async function quickchart(key) {\n",
              "      const quickchartButtonEl =\n",
              "        document.querySelector('#' + key + ' button');\n",
              "      quickchartButtonEl.disabled = true;  // To prevent multiple clicks.\n",
              "      quickchartButtonEl.classList.add('colab-df-spinner');\n",
              "      try {\n",
              "        const charts = await google.colab.kernel.invokeFunction(\n",
              "            'suggestCharts', [key], {});\n",
              "      } catch (error) {\n",
              "        console.error('Error during call to suggestCharts:', error);\n",
              "      }\n",
              "      quickchartButtonEl.classList.remove('colab-df-spinner');\n",
              "      quickchartButtonEl.classList.add('colab-df-quickchart-complete');\n",
              "    }\n",
              "    (() => {\n",
              "      let quickchartButtonEl =\n",
              "        document.querySelector('#df-476bb68d-7e67-49aa-9b35-08c7b69a0f02 button');\n",
              "      quickchartButtonEl.style.display =\n",
              "        google.colab.kernel.accessAllowed ? 'block' : 'none';\n",
              "    })();\n",
              "  </script>\n",
              "</div>\n",
              "\n",
              "    </div>\n",
              "  </div>\n"
            ],
            "application/vnd.google.colaboratory.intrinsic+json": {
              "type": "dataframe",
              "variable_name": "df_enem",
              "summary": "{\n  \"name\": \"df_enem\",\n  \"rows\": 1000,\n  \"fields\": [\n    {\n      \"column\": \"Linguagens\",\n      \"properties\": {\n        \"dtype\": \"number\",\n        \"std\": 84.00931315971195,\n        \"min\": 287.0,\n        \"max\": 804.4563171927,\n        \"num_unique_values\": 896,\n        \"samples\": [\n          638.5729576994,\n          458.5772735297,\n          469.6368972844\n        ],\n        \"semantic_type\": \"\",\n        \"description\": \"\"\n      }\n    },\n    {\n      \"column\": \"Ci\\u00eancias humanas\",\n      \"properties\": {\n        \"dtype\": \"number\",\n        \"std\": 77.81151916399479,\n        \"min\": 289.9,\n        \"max\": 763.9196954613,\n        \"num_unique_values\": 935,\n        \"samples\": [\n          552.953806862,\n          648.4281845758,\n          519.0714634707\n        ],\n        \"semantic_type\": \"\",\n        \"description\": \"\"\n      }\n    },\n    {\n      \"column\": \"Ci\\u00eancias da natureza\",\n      \"properties\": {\n        \"dtype\": \"number\",\n        \"std\": 78.76040369093826,\n        \"min\": 314.4,\n        \"max\": 802.0045683513,\n        \"num_unique_values\": 821,\n        \"samples\": [\n          472.110329659,\n          468.0927320977,\n          391.1238460543\n        ],\n        \"semantic_type\": \"\",\n        \"description\": \"\"\n      }\n    },\n    {\n      \"column\": \"Matem\\u00e1tica\",\n      \"properties\": {\n        \"dtype\": \"number\",\n        \"std\": 86.64810003261282,\n        \"min\": 319.8,\n        \"max\": 807.8779018921,\n        \"num_unique_values\": 918,\n        \"samples\": [\n          577.6921115123,\n          562.8560894807,\n          464.1971411718\n        ],\n        \"semantic_type\": \"\",\n        \"description\": \"\"\n      }\n    },\n    {\n      \"column\": \"Reda\\u00e7\\u00e3o\",\n      \"properties\": {\n        \"dtype\": \"number\",\n        \"std\": 115.33997244479167,\n        \"min\": 270.8399648605,\n        \"max\": 1000.0,\n        \"num_unique_values\": 860,\n        \"samples\": [\n          482.1791420587,\n          687.1614107203,\n          572.6498716449\n        ],\n        \"semantic_type\": \"\",\n        \"description\": \"\"\n      }\n    },\n    {\n      \"column\": \"Sexo\",\n      \"properties\": {\n        \"dtype\": \"category\",\n        \"num_unique_values\": 3,\n        \"samples\": [\n          \"Homem\",\n          \"Mulher\",\n          \"N\\u00e3o idenficado\"\n        ],\n        \"semantic_type\": \"\",\n        \"description\": \"\"\n      }\n    }\n  ]\n}"
            }
          },
          "metadata": {},
          "execution_count": 37
        }
      ]
    },
    {
      "cell_type": "code",
      "source": [
        "#verficando se há dados nulos\n",
        "df_enem.isna().sum()"
      ],
      "metadata": {
        "colab": {
          "base_uri": "https://localhost:8080/",
          "height": 272
        },
        "id": "_-_0DJAhzvpq",
        "outputId": "d211c2fb-d05f-4ac7-e3ea-99da943b8059"
      },
      "execution_count": null,
      "outputs": [
        {
          "output_type": "execute_result",
          "data": {
            "text/plain": [
              "Linguagens              103\n",
              "Ciências humanas         64\n",
              "Ciências da natureza    176\n",
              "Matemática               76\n",
              "Redação                 140\n",
              "Sexo                      0\n",
              "dtype: int64"
            ],
            "text/html": [
              "<div>\n",
              "<style scoped>\n",
              "    .dataframe tbody tr th:only-of-type {\n",
              "        vertical-align: middle;\n",
              "    }\n",
              "\n",
              "    .dataframe tbody tr th {\n",
              "        vertical-align: top;\n",
              "    }\n",
              "\n",
              "    .dataframe thead th {\n",
              "        text-align: right;\n",
              "    }\n",
              "</style>\n",
              "<table border=\"1\" class=\"dataframe\">\n",
              "  <thead>\n",
              "    <tr style=\"text-align: right;\">\n",
              "      <th></th>\n",
              "      <th>0</th>\n",
              "    </tr>\n",
              "  </thead>\n",
              "  <tbody>\n",
              "    <tr>\n",
              "      <th>Linguagens</th>\n",
              "      <td>103</td>\n",
              "    </tr>\n",
              "    <tr>\n",
              "      <th>Ciências humanas</th>\n",
              "      <td>64</td>\n",
              "    </tr>\n",
              "    <tr>\n",
              "      <th>Ciências da natureza</th>\n",
              "      <td>176</td>\n",
              "    </tr>\n",
              "    <tr>\n",
              "      <th>Matemática</th>\n",
              "      <td>76</td>\n",
              "    </tr>\n",
              "    <tr>\n",
              "      <th>Redação</th>\n",
              "      <td>140</td>\n",
              "    </tr>\n",
              "    <tr>\n",
              "      <th>Sexo</th>\n",
              "      <td>0</td>\n",
              "    </tr>\n",
              "  </tbody>\n",
              "</table>\n",
              "</div><br><label><b>dtype:</b> int64</label>"
            ]
          },
          "metadata": {},
          "execution_count": 38
        }
      ]
    },
    {
      "cell_type": "code",
      "source": [
        "df_enem.describe()"
      ],
      "metadata": {
        "colab": {
          "base_uri": "https://localhost:8080/",
          "height": 300
        },
        "id": "Juz6eV1AiQ9O",
        "outputId": "1e489566-8e88-4c15-eac0-de9bd9a22320"
      },
      "execution_count": null,
      "outputs": [
        {
          "output_type": "execute_result",
          "data": {
            "text/plain": [
              "       Linguagens  Ciências humanas  Ciências da natureza  Matemática  \\\n",
              "count  897.000000        936.000000            824.000000  924.000000   \n",
              "mean   514.524809        527.042281            499.315583  535.965660   \n",
              "std     84.009313         77.811519             78.760404   86.648100   \n",
              "min    287.000000        289.900000            314.400000  319.800000   \n",
              "25%    458.360558        475.424546            444.709076  479.172971   \n",
              "50%    515.045250        524.519920            500.479263  533.247767   \n",
              "75%    571.635876        581.401952            548.751678  592.912963   \n",
              "max    804.456317        763.919695            802.004568  807.877902   \n",
              "\n",
              "           Redação  \n",
              "count   860.000000  \n",
              "mean    637.783532  \n",
              "std     115.339972  \n",
              "min     270.839965  \n",
              "25%     556.468366  \n",
              "50%     635.273973  \n",
              "75%     715.989868  \n",
              "max    1000.000000  "
            ],
            "text/html": [
              "\n",
              "  <div id=\"df-c7dc4e1f-6405-42d8-8c9c-83b00524c34c\" class=\"colab-df-container\">\n",
              "    <div>\n",
              "<style scoped>\n",
              "    .dataframe tbody tr th:only-of-type {\n",
              "        vertical-align: middle;\n",
              "    }\n",
              "\n",
              "    .dataframe tbody tr th {\n",
              "        vertical-align: top;\n",
              "    }\n",
              "\n",
              "    .dataframe thead th {\n",
              "        text-align: right;\n",
              "    }\n",
              "</style>\n",
              "<table border=\"1\" class=\"dataframe\">\n",
              "  <thead>\n",
              "    <tr style=\"text-align: right;\">\n",
              "      <th></th>\n",
              "      <th>Linguagens</th>\n",
              "      <th>Ciências humanas</th>\n",
              "      <th>Ciências da natureza</th>\n",
              "      <th>Matemática</th>\n",
              "      <th>Redação</th>\n",
              "    </tr>\n",
              "  </thead>\n",
              "  <tbody>\n",
              "    <tr>\n",
              "      <th>count</th>\n",
              "      <td>897.000000</td>\n",
              "      <td>936.000000</td>\n",
              "      <td>824.000000</td>\n",
              "      <td>924.000000</td>\n",
              "      <td>860.000000</td>\n",
              "    </tr>\n",
              "    <tr>\n",
              "      <th>mean</th>\n",
              "      <td>514.524809</td>\n",
              "      <td>527.042281</td>\n",
              "      <td>499.315583</td>\n",
              "      <td>535.965660</td>\n",
              "      <td>637.783532</td>\n",
              "    </tr>\n",
              "    <tr>\n",
              "      <th>std</th>\n",
              "      <td>84.009313</td>\n",
              "      <td>77.811519</td>\n",
              "      <td>78.760404</td>\n",
              "      <td>86.648100</td>\n",
              "      <td>115.339972</td>\n",
              "    </tr>\n",
              "    <tr>\n",
              "      <th>min</th>\n",
              "      <td>287.000000</td>\n",
              "      <td>289.900000</td>\n",
              "      <td>314.400000</td>\n",
              "      <td>319.800000</td>\n",
              "      <td>270.839965</td>\n",
              "    </tr>\n",
              "    <tr>\n",
              "      <th>25%</th>\n",
              "      <td>458.360558</td>\n",
              "      <td>475.424546</td>\n",
              "      <td>444.709076</td>\n",
              "      <td>479.172971</td>\n",
              "      <td>556.468366</td>\n",
              "    </tr>\n",
              "    <tr>\n",
              "      <th>50%</th>\n",
              "      <td>515.045250</td>\n",
              "      <td>524.519920</td>\n",
              "      <td>500.479263</td>\n",
              "      <td>533.247767</td>\n",
              "      <td>635.273973</td>\n",
              "    </tr>\n",
              "    <tr>\n",
              "      <th>75%</th>\n",
              "      <td>571.635876</td>\n",
              "      <td>581.401952</td>\n",
              "      <td>548.751678</td>\n",
              "      <td>592.912963</td>\n",
              "      <td>715.989868</td>\n",
              "    </tr>\n",
              "    <tr>\n",
              "      <th>max</th>\n",
              "      <td>804.456317</td>\n",
              "      <td>763.919695</td>\n",
              "      <td>802.004568</td>\n",
              "      <td>807.877902</td>\n",
              "      <td>1000.000000</td>\n",
              "    </tr>\n",
              "  </tbody>\n",
              "</table>\n",
              "</div>\n",
              "    <div class=\"colab-df-buttons\">\n",
              "\n",
              "  <div class=\"colab-df-container\">\n",
              "    <button class=\"colab-df-convert\" onclick=\"convertToInteractive('df-c7dc4e1f-6405-42d8-8c9c-83b00524c34c')\"\n",
              "            title=\"Convert this dataframe to an interactive table.\"\n",
              "            style=\"display:none;\">\n",
              "\n",
              "  <svg xmlns=\"http://www.w3.org/2000/svg\" height=\"24px\" viewBox=\"0 -960 960 960\">\n",
              "    <path d=\"M120-120v-720h720v720H120Zm60-500h600v-160H180v160Zm220 220h160v-160H400v160Zm0 220h160v-160H400v160ZM180-400h160v-160H180v160Zm440 0h160v-160H620v160ZM180-180h160v-160H180v160Zm440 0h160v-160H620v160Z\"/>\n",
              "  </svg>\n",
              "    </button>\n",
              "\n",
              "  <style>\n",
              "    .colab-df-container {\n",
              "      display:flex;\n",
              "      gap: 12px;\n",
              "    }\n",
              "\n",
              "    .colab-df-convert {\n",
              "      background-color: #E8F0FE;\n",
              "      border: none;\n",
              "      border-radius: 50%;\n",
              "      cursor: pointer;\n",
              "      display: none;\n",
              "      fill: #1967D2;\n",
              "      height: 32px;\n",
              "      padding: 0 0 0 0;\n",
              "      width: 32px;\n",
              "    }\n",
              "\n",
              "    .colab-df-convert:hover {\n",
              "      background-color: #E2EBFA;\n",
              "      box-shadow: 0px 1px 2px rgba(60, 64, 67, 0.3), 0px 1px 3px 1px rgba(60, 64, 67, 0.15);\n",
              "      fill: #174EA6;\n",
              "    }\n",
              "\n",
              "    .colab-df-buttons div {\n",
              "      margin-bottom: 4px;\n",
              "    }\n",
              "\n",
              "    [theme=dark] .colab-df-convert {\n",
              "      background-color: #3B4455;\n",
              "      fill: #D2E3FC;\n",
              "    }\n",
              "\n",
              "    [theme=dark] .colab-df-convert:hover {\n",
              "      background-color: #434B5C;\n",
              "      box-shadow: 0px 1px 3px 1px rgba(0, 0, 0, 0.15);\n",
              "      filter: drop-shadow(0px 1px 2px rgba(0, 0, 0, 0.3));\n",
              "      fill: #FFFFFF;\n",
              "    }\n",
              "  </style>\n",
              "\n",
              "    <script>\n",
              "      const buttonEl =\n",
              "        document.querySelector('#df-c7dc4e1f-6405-42d8-8c9c-83b00524c34c button.colab-df-convert');\n",
              "      buttonEl.style.display =\n",
              "        google.colab.kernel.accessAllowed ? 'block' : 'none';\n",
              "\n",
              "      async function convertToInteractive(key) {\n",
              "        const element = document.querySelector('#df-c7dc4e1f-6405-42d8-8c9c-83b00524c34c');\n",
              "        const dataTable =\n",
              "          await google.colab.kernel.invokeFunction('convertToInteractive',\n",
              "                                                    [key], {});\n",
              "        if (!dataTable) return;\n",
              "\n",
              "        const docLinkHtml = 'Like what you see? Visit the ' +\n",
              "          '<a target=\"_blank\" href=https://colab.research.google.com/notebooks/data_table.ipynb>data table notebook</a>'\n",
              "          + ' to learn more about interactive tables.';\n",
              "        element.innerHTML = '';\n",
              "        dataTable['output_type'] = 'display_data';\n",
              "        await google.colab.output.renderOutput(dataTable, element);\n",
              "        const docLink = document.createElement('div');\n",
              "        docLink.innerHTML = docLinkHtml;\n",
              "        element.appendChild(docLink);\n",
              "      }\n",
              "    </script>\n",
              "  </div>\n",
              "\n",
              "\n",
              "<div id=\"df-5c399c85-ac46-4691-8ac3-279113a0d826\">\n",
              "  <button class=\"colab-df-quickchart\" onclick=\"quickchart('df-5c399c85-ac46-4691-8ac3-279113a0d826')\"\n",
              "            title=\"Suggest charts\"\n",
              "            style=\"display:none;\">\n",
              "\n",
              "<svg xmlns=\"http://www.w3.org/2000/svg\" height=\"24px\"viewBox=\"0 0 24 24\"\n",
              "     width=\"24px\">\n",
              "    <g>\n",
              "        <path d=\"M19 3H5c-1.1 0-2 .9-2 2v14c0 1.1.9 2 2 2h14c1.1 0 2-.9 2-2V5c0-1.1-.9-2-2-2zM9 17H7v-7h2v7zm4 0h-2V7h2v10zm4 0h-2v-4h2v4z\"/>\n",
              "    </g>\n",
              "</svg>\n",
              "  </button>\n",
              "\n",
              "<style>\n",
              "  .colab-df-quickchart {\n",
              "      --bg-color: #E8F0FE;\n",
              "      --fill-color: #1967D2;\n",
              "      --hover-bg-color: #E2EBFA;\n",
              "      --hover-fill-color: #174EA6;\n",
              "      --disabled-fill-color: #AAA;\n",
              "      --disabled-bg-color: #DDD;\n",
              "  }\n",
              "\n",
              "  [theme=dark] .colab-df-quickchart {\n",
              "      --bg-color: #3B4455;\n",
              "      --fill-color: #D2E3FC;\n",
              "      --hover-bg-color: #434B5C;\n",
              "      --hover-fill-color: #FFFFFF;\n",
              "      --disabled-bg-color: #3B4455;\n",
              "      --disabled-fill-color: #666;\n",
              "  }\n",
              "\n",
              "  .colab-df-quickchart {\n",
              "    background-color: var(--bg-color);\n",
              "    border: none;\n",
              "    border-radius: 50%;\n",
              "    cursor: pointer;\n",
              "    display: none;\n",
              "    fill: var(--fill-color);\n",
              "    height: 32px;\n",
              "    padding: 0;\n",
              "    width: 32px;\n",
              "  }\n",
              "\n",
              "  .colab-df-quickchart:hover {\n",
              "    background-color: var(--hover-bg-color);\n",
              "    box-shadow: 0 1px 2px rgba(60, 64, 67, 0.3), 0 1px 3px 1px rgba(60, 64, 67, 0.15);\n",
              "    fill: var(--button-hover-fill-color);\n",
              "  }\n",
              "\n",
              "  .colab-df-quickchart-complete:disabled,\n",
              "  .colab-df-quickchart-complete:disabled:hover {\n",
              "    background-color: var(--disabled-bg-color);\n",
              "    fill: var(--disabled-fill-color);\n",
              "    box-shadow: none;\n",
              "  }\n",
              "\n",
              "  .colab-df-spinner {\n",
              "    border: 2px solid var(--fill-color);\n",
              "    border-color: transparent;\n",
              "    border-bottom-color: var(--fill-color);\n",
              "    animation:\n",
              "      spin 1s steps(1) infinite;\n",
              "  }\n",
              "\n",
              "  @keyframes spin {\n",
              "    0% {\n",
              "      border-color: transparent;\n",
              "      border-bottom-color: var(--fill-color);\n",
              "      border-left-color: var(--fill-color);\n",
              "    }\n",
              "    20% {\n",
              "      border-color: transparent;\n",
              "      border-left-color: var(--fill-color);\n",
              "      border-top-color: var(--fill-color);\n",
              "    }\n",
              "    30% {\n",
              "      border-color: transparent;\n",
              "      border-left-color: var(--fill-color);\n",
              "      border-top-color: var(--fill-color);\n",
              "      border-right-color: var(--fill-color);\n",
              "    }\n",
              "    40% {\n",
              "      border-color: transparent;\n",
              "      border-right-color: var(--fill-color);\n",
              "      border-top-color: var(--fill-color);\n",
              "    }\n",
              "    60% {\n",
              "      border-color: transparent;\n",
              "      border-right-color: var(--fill-color);\n",
              "    }\n",
              "    80% {\n",
              "      border-color: transparent;\n",
              "      border-right-color: var(--fill-color);\n",
              "      border-bottom-color: var(--fill-color);\n",
              "    }\n",
              "    90% {\n",
              "      border-color: transparent;\n",
              "      border-bottom-color: var(--fill-color);\n",
              "    }\n",
              "  }\n",
              "</style>\n",
              "\n",
              "  <script>\n",
              "    async function quickchart(key) {\n",
              "      const quickchartButtonEl =\n",
              "        document.querySelector('#' + key + ' button');\n",
              "      quickchartButtonEl.disabled = true;  // To prevent multiple clicks.\n",
              "      quickchartButtonEl.classList.add('colab-df-spinner');\n",
              "      try {\n",
              "        const charts = await google.colab.kernel.invokeFunction(\n",
              "            'suggestCharts', [key], {});\n",
              "      } catch (error) {\n",
              "        console.error('Error during call to suggestCharts:', error);\n",
              "      }\n",
              "      quickchartButtonEl.classList.remove('colab-df-spinner');\n",
              "      quickchartButtonEl.classList.add('colab-df-quickchart-complete');\n",
              "    }\n",
              "    (() => {\n",
              "      let quickchartButtonEl =\n",
              "        document.querySelector('#df-5c399c85-ac46-4691-8ac3-279113a0d826 button');\n",
              "      quickchartButtonEl.style.display =\n",
              "        google.colab.kernel.accessAllowed ? 'block' : 'none';\n",
              "    })();\n",
              "  </script>\n",
              "</div>\n",
              "\n",
              "    </div>\n",
              "  </div>\n"
            ],
            "application/vnd.google.colaboratory.intrinsic+json": {
              "type": "dataframe",
              "summary": "{\n  \"name\": \"df_enem\",\n  \"rows\": 8,\n  \"fields\": [\n    {\n      \"column\": \"Linguagens\",\n      \"properties\": {\n        \"dtype\": \"number\",\n        \"std\": 260.1767838163819,\n        \"min\": 84.00931315971195,\n        \"max\": 897.0,\n        \"num_unique_values\": 8,\n        \"samples\": [\n          514.5248092106333,\n          515.0452497632,\n          897.0\n        ],\n        \"semantic_type\": \"\",\n        \"description\": \"\"\n      }\n    },\n    {\n      \"column\": \"Ci\\u00eancias humanas\",\n      \"properties\": {\n        \"dtype\": \"number\",\n        \"std\": 263.71645891458803,\n        \"min\": 77.81151916399479,\n        \"max\": 936.0,\n        \"num_unique_values\": 8,\n        \"samples\": [\n          527.0422808644046,\n          524.51992005745,\n          936.0\n        ],\n        \"semantic_type\": \"\",\n        \"description\": \"\"\n      }\n    },\n    {\n      \"column\": \"Ci\\u00eancias da natureza\",\n      \"properties\": {\n        \"dtype\": \"number\",\n        \"std\": 243.0426604218538,\n        \"min\": 78.76040369093826,\n        \"max\": 824.0,\n        \"num_unique_values\": 8,\n        \"samples\": [\n          499.3155828489798,\n          500.47926306565,\n          824.0\n        ],\n        \"semantic_type\": \"\",\n        \"description\": \"\"\n      }\n    },\n    {\n      \"column\": \"Matem\\u00e1tica\",\n      \"properties\": {\n        \"dtype\": \"number\",\n        \"std\": 261.7491627218222,\n        \"min\": 86.64810003261282,\n        \"max\": 924.0,\n        \"num_unique_values\": 8,\n        \"samples\": [\n          535.9656600928728,\n          533.2477669785001,\n          924.0\n        ],\n        \"semantic_type\": \"\",\n        \"description\": \"\"\n      }\n    },\n    {\n      \"column\": \"Reda\\u00e7\\u00e3o\",\n      \"properties\": {\n        \"dtype\": \"number\",\n        \"std\": 290.037818244487,\n        \"min\": 115.33997244479167,\n        \"max\": 1000.0,\n        \"num_unique_values\": 8,\n        \"samples\": [\n          637.7835320695872,\n          635.27397319435,\n          860.0\n        ],\n        \"semantic_type\": \"\",\n        \"description\": \"\"\n      }\n    }\n  ]\n}"
            }
          },
          "metadata": {},
          "execution_count": 39
        }
      ]
    },
    {
      "cell_type": "markdown",
      "source": [
        "## Exercicio 1\n",
        "Qual das disciplinas tem a maior amplitude de nota?"
      ],
      "metadata": {
        "id": "qi5LR6JYDgPe"
      }
    },
    {
      "cell_type": "code",
      "source": [
        "#separando todas as linhas das colunas selecionadas\n",
        "amplitude = df_enem.iloc[:, 0:5].max() - df_enem.iloc[:, 0:5].min()\n",
        "#usando tabulate para melhor visualização dos dados\n",
        "df_amplitude = amplitude.reset_index()\n",
        "df_amplitude.columns = ['Disciplina', 'Amplitude']\n",
        "print(tabulate(df_amplitude, headers='keys', tablefmt='fancy_grid', showindex = False, floatfmt='.2f'))\n",
        "#Maior amplitude entre as disciplinas\n",
        "print(f'A disciplina com maior amplitude é: {amplitude.idxmax()}')"
      ],
      "metadata": {
        "colab": {
          "base_uri": "https://localhost:8080/"
        },
        "id": "wfn_e2a3xCDs",
        "outputId": "26bf6d3f-470c-4ede-ae42-3037eb8b88ac"
      },
      "execution_count": null,
      "outputs": [
        {
          "output_type": "stream",
          "name": "stdout",
          "text": [
            "╒══════════════════════╤═════════════╕\n",
            "│ Disciplina           │   Amplitude │\n",
            "╞══════════════════════╪═════════════╡\n",
            "│ Linguagens           │      517.46 │\n",
            "├──────────────────────┼─────────────┤\n",
            "│ Ciências humanas     │      474.02 │\n",
            "├──────────────────────┼─────────────┤\n",
            "│ Ciências da natureza │      487.60 │\n",
            "├──────────────────────┼─────────────┤\n",
            "│ Matemática           │      488.08 │\n",
            "├──────────────────────┼─────────────┤\n",
            "│ Redação              │      729.16 │\n",
            "╘══════════════════════╧═════════════╛\n",
            "A disciplina com maior amplitude é: Redação\n"
          ]
        }
      ]
    },
    {
      "cell_type": "markdown",
      "source": [
        "## Exercicio 2\n",
        "Qual é a média e a\n",
        "mediana para cada uma das disciplinas? (Lembre-se de remover todos os\n",
        "valores nulos quando considerar a mediana)\n"
      ],
      "metadata": {
        "id": "-h4En_MODha-"
      }
    },
    {
      "cell_type": "code",
      "source": [
        "#definindo lista de disciplinas para o loop\n",
        "disciplinas = ['Linguagens',\n",
        "               'Ciências humanas',\n",
        "               'Ciências da natureza',\n",
        "               'Matemática',\n",
        "               'Redação']\n",
        "\n",
        "for disciplina in disciplinas:\n",
        "  notas = df_enem[disciplina].dropna()\n",
        "  media = notas.mean()\n",
        "  mediana = notas.median()\n",
        "  print(f'\\nMédia de {disciplina}: {media}')\n",
        "  print(f'Mediana {disciplina}: {mediana}')"
      ],
      "metadata": {
        "colab": {
          "base_uri": "https://localhost:8080/"
        },
        "id": "fN8_rAzREh-Y",
        "outputId": "06eef550-8e0f-434c-a9a3-1fa8ffb1ba89"
      },
      "execution_count": null,
      "outputs": [
        {
          "output_type": "stream",
          "name": "stdout",
          "text": [
            "\n",
            "Média de Linguagens: 514.5248092106333\n",
            "Mediana Linguagens: 515.0452497632\n",
            "\n",
            "Média de Ciências humanas: 527.0422808644046\n",
            "Mediana Ciências humanas: 524.51992005745\n",
            "\n",
            "Média de Ciências da natureza: 499.3155828489797\n",
            "Mediana Ciências da natureza: 500.47926306565\n",
            "\n",
            "Média de Matemática: 535.9656600928729\n",
            "Mediana Matemática: 533.2477669785001\n",
            "\n",
            "Média de Redação: 637.7835320695873\n",
            "Mediana Redação: 635.27397319435\n"
          ]
        }
      ]
    },
    {
      "cell_type": "markdown",
      "source": [
        "## Exercicio 3\n",
        "Considerando o curso de Ciência da Computação da UFPE, onde o peso\n",
        "cada uma das disciplinas ponderado:\n",
        "a. Redação - 2\n",
        "b. Matemática e suas Tecnologias - 4\n",
        "c. Linguagens, Códigos e suas Tecnologias - 2\n",
        "d. Ciências Humanas e suas Tecnologias - 1\n",
        "e. Ciências da Natureza e suas Tecnologias - 1\n",
        "Qual o desvio padrão e média das notas dos 500 estudantes mais bem\n",
        "colocados considerando esses pesos?\n"
      ],
      "metadata": {
        "id": "lFMQhr4CHsmo"
      }
    },
    {
      "cell_type": "code",
      "source": [
        "#definindo os pesos para cada disciplina\n",
        "pesos = pd.Series({\n",
        "    'Redação': 2,\n",
        "    'Matemática': 4,\n",
        "    'Linguagens': 2,\n",
        "    'Ciências humanas': 1,\n",
        "    'Ciências da natureza' : 1\n",
        "})\n",
        "#calculando a nota ponderada para cada estudante\n",
        "df_ponderada = df_enem.dropna(subset=pesos.index)\n",
        "notas = df_ponderada.loc[:, pesos.index]  # Seleção explícita com loc\n",
        "# Use np.sum to explicitly call the NumPy sum function\n",
        "df_ponderada['Nota Ponderada'] = (notas * pesos).sum(axis=1) / np.sum(pesos.values)\n",
        "\n",
        "#selecionando os 500 maiores valores\n",
        "top_500_estudantes = df_ponderada.nlargest(500, 'Nota Ponderada')\n",
        "\n",
        "#calculando a media e a variancia\n",
        "media = top_500_estudantes['Nota Ponderada'].mean()\n",
        "dsv = top_500_estudantes['Nota Ponderada'].std()\n",
        "\n",
        "#Exibindo valores do maior para o menor\n",
        "top_500_estudantes = top_500_estudantes.sort_values(by='Nota Ponderada', ascending=False)\n",
        "\n",
        "#Exibindo a tabela com tabulate para melhor visualização\n",
        "print(tabulate(top_500_estudantes[['Nota Ponderada']].head(10).round(2), headers='keys', tablefmt='fancy_grid'))\n",
        "\n",
        "print(f\"\\nMédia das notas ponderadas dos melhores 500 estudantes: {media:.2f}\")\n",
        "print(f'O desvio padrão das notas ponderadas dos melhores 500 estudantes: {dsv:.2f}')\n",
        "print('\\n')"
      ],
      "metadata": {
        "colab": {
          "base_uri": "https://localhost:8080/"
        },
        "id": "qRSuw7tKHyUo",
        "outputId": "0e3ba146-c2cb-4480-ca5d-d86b7968b801"
      },
      "execution_count": null,
      "outputs": [
        {
          "output_type": "stream",
          "name": "stdout",
          "text": [
            "╒═════╤══════════════════╕\n",
            "│     │   Nota Ponderada │\n",
            "╞═════╪══════════════════╡\n",
            "│  25 │           682.99 │\n",
            "├─────┼──────────────────┤\n",
            "│ 824 │           680.1  │\n",
            "├─────┼──────────────────┤\n",
            "│ 702 │           671.27 │\n",
            "├─────┼──────────────────┤\n",
            "│ 129 │           664.38 │\n",
            "├─────┼──────────────────┤\n",
            "│  60 │           658.6  │\n",
            "├─────┼──────────────────┤\n",
            "│ 880 │           658.56 │\n",
            "├─────┼──────────────────┤\n",
            "│ 376 │           657.8  │\n",
            "├─────┼──────────────────┤\n",
            "│ 989 │           648.02 │\n",
            "├─────┼──────────────────┤\n",
            "│ 694 │           646.94 │\n",
            "├─────┼──────────────────┤\n",
            "│ 965 │           645.62 │\n",
            "╘═════╧══════════════════╛\n",
            "\n",
            "Média das notas ponderadas dos melhores 500 estudantes: 557.29\n",
            "O desvio padrão das notas ponderadas dos melhores 500 estudantes: 40.44\n",
            "\n",
            "\n"
          ]
        },
        {
          "output_type": "stream",
          "name": "stderr",
          "text": [
            "<ipython-input-42-84d9d5a1d03b>:13: SettingWithCopyWarning: \n",
            "A value is trying to be set on a copy of a slice from a DataFrame.\n",
            "Try using .loc[row_indexer,col_indexer] = value instead\n",
            "\n",
            "See the caveats in the documentation: https://pandas.pydata.org/pandas-docs/stable/user_guide/indexing.html#returning-a-view-versus-a-copy\n",
            "  df_ponderada['Nota Ponderada'] = (notas * pesos).sum(axis=1) / np.sum(pesos.values)\n"
          ]
        }
      ]
    },
    {
      "cell_type": "code",
      "source": [
        "#outra alternativa\n",
        "media = top_500_estudantes.select_dtypes(include = np.number).mean()\n",
        "dsv = top_500_estudantes.select_dtypes(include = np.number).std()\n",
        "print(f'Média das notas ponderadas dos melhores 500 estudantes: \\n{media}')\n",
        "print(f'O desvio padrão das notas ponderadas dos melhores 500 estudantes: \\n{dsv}')"
      ],
      "metadata": {
        "colab": {
          "base_uri": "https://localhost:8080/"
        },
        "id": "yuYhKQq6BoB1",
        "outputId": "f4c1bf8d-0e37-4559-b830-f060615bee7a"
      },
      "execution_count": null,
      "outputs": [
        {
          "output_type": "stream",
          "name": "stdout",
          "text": [
            "Média das notas ponderadas dos melhores 500 estudantes: \n",
            "Linguagens              522.839398\n",
            "Ciências humanas        529.920191\n",
            "Ciências da natureza    503.086728\n",
            "Matemática              547.407965\n",
            "Redação                 652.289598\n",
            "Nota Ponderada          557.289677\n",
            "dtype: float64\n",
            "O desvio padrão das notas ponderadas dos melhores 500 estudantes: \n",
            "Linguagens               80.774298\n",
            "Ciências humanas         77.131378\n",
            "Ciências da natureza     78.613174\n",
            "Matemática               83.240776\n",
            "Redação                 109.963819\n",
            "Nota Ponderada           40.435866\n",
            "dtype: float64\n"
          ]
        }
      ]
    },
    {
      "cell_type": "code",
      "source": [
        "sns.set_theme(style='whitegrid')\n",
        "plt.figure(figsize=(10, 5))\n",
        "sns.histplot(top_500_estudantes['Nota Ponderada'], bins=20,alpha = 0.7, kde=True)\n",
        "plt.title('Histograma das notas ponderadas dos 500 melhores')\n",
        "plt.xlabel('Nota Ponderada')\n",
        "plt.ylabel('Frequência')\n",
        "plt.show()"
      ],
      "metadata": {
        "colab": {
          "base_uri": "https://localhost:8080/",
          "height": 496
        },
        "id": "Z8hJOTzjP2x1",
        "outputId": "3ebf6d4e-c8c1-4ba9-a3b6-0531b401b6e3"
      },
      "execution_count": null,
      "outputs": [
        {
          "output_type": "display_data",
          "data": {
            "text/plain": [
              "<Figure size 1000x500 with 1 Axes>"
            ],
            "image/png": "[encoded data removed]"
          },
          "metadata": {}
        }
      ]
    },
    {
      "cell_type": "markdown",
      "source": [
        "## Exercicio 4\n",
        "Se todos esses estudantes aplicassem para ciência da computação e\n",
        "existem apenas 40 vagas, qual seria a variância e média da nota dos\n",
        "estudantes que entraram no curso de ciência da computação?"
      ],
      "metadata": {
        "id": "ANF_xsXPLWXI"
      }
    },
    {
      "cell_type": "code",
      "source": [
        "#selecionando os 40 aprovados dos 500 melhores\n",
        "aprovados_40 = top_500_estudantes.nlargest(40, 'Nota Ponderada')\n",
        "#calculando a media e a variancia\n",
        "media_aprovados = aprovados_40['Nota Ponderada'].mean()\n",
        "variancia_aprovados = aprovados_40['Nota Ponderada'].var()\n",
        "\n",
        "print(f'Média dos 40 aprovados: {media_aprovados:.2f}')\n",
        "print(f'Variância dos 40 aprovados: {variancia_aprovados:.2f}')"
      ],
      "metadata": {
        "colab": {
          "base_uri": "https://localhost:8080/"
        },
        "id": "waievTY-Lb3A",
        "outputId": "fb320782-0084-49b4-e24d-82e854a2c519"
      },
      "execution_count": null,
      "outputs": [
        {
          "output_type": "stream",
          "name": "stdout",
          "text": [
            "Média dos 40 aprovados: 636.68\n",
            "Variância dos 40 aprovados: 295.77\n"
          ]
        }
      ]
    },
    {
      "cell_type": "markdown",
      "source": [
        "## Exercicio 5\n",
        "Qual o valor do teto do terceiro quartil para as disciplinas de matemática\n",
        "e linguagens?"
      ],
      "metadata": {
        "id": "Z7hrNXXfLcWQ"
      }
    },
    {
      "cell_type": "code",
      "source": [
        "#Filtrando disciplinas pedidas\n",
        "disciplinas_filtradas = ['Linguagens', 'Matemática']\n",
        "dados = df_enem[disciplinas_filtradas].dropna()\n",
        "\n",
        "#calculando o 3° quartil, valor abaixo do qual 75% dos dados se encontram\n",
        "q3_lin = dados['Linguagens'].quantile(0.75)\n",
        "q3_math = dados['Matemática'].quantile(0.75)\n",
        "\n",
        "print(f'O teto do 3° quartil para Linguagens é: {q3_lin:.2f}')\n",
        "print(f'O teto do 3° quartil para Matemática é: {q3_math:.2f}')\n",
        "\n",
        "#boxplot\n",
        "fig, ax = plt.subplots()\n",
        "ax.boxplot([dados['Linguagens'], dados['Matemática']])\n",
        "ax.title.set_text('Boxplot das notas de Linguagens e Matemática')\n",
        "ax.set_xticklabels(['Linguagens', 'Matemática'])\n",
        "ax.set_ylabel('Notas')"
      ],
      "metadata": {
        "colab": {
          "base_uri": "https://localhost:8080/",
          "height": 509
        },
        "id": "V4xa7ZHsLfXY",
        "outputId": "bfcf7c49-26b1-48c9-cc37-9f024ba52491"
      },
      "execution_count": null,
      "outputs": [
        {
          "output_type": "stream",
          "name": "stdout",
          "text": [
            "O teto do 3° quartil para Linguagens é: 571.96\n",
            "O teto do 3° quartil para Matemática é: 591.68\n"
          ]
        },
        {
          "output_type": "execute_result",
          "data": {
            "text/plain": [
              "Text(0, 0.5, 'Notas')"
            ]
          },
          "metadata": {},
          "execution_count": 46
        },
        {
          "output_type": "display_data",
          "data": {
            "text/plain": [
              "<Figure size 640x480 with 1 Axes>"
            ],
            "image/png": "[encoded data removed]"
          },
          "metadata": {}
        }
      ]
    },
    {
      "cell_type": "markdown",
      "source": [
        "## Exercicio 6\n",
        "Faça o histograma de Redação e Linguagens, de 20 em 20 pontos.\n",
        "Podemos dizer que são histogramas simétricos, justifique e classifique se\n",
        "não assimétricas?\n"
      ],
      "metadata": {
        "id": "q6XOGpzrLfow"
      }
    },
    {
      "cell_type": "code",
      "source": [
        "#Criando um dataframe para redação e linguagens\n",
        "df_red_lin = df_enem[['Redação', 'Linguagens']]\n",
        "\n",
        "#Removendo os nulos\n",
        "redacao = df_enem['Redação'].dropna()\n",
        "linguagens = df_enem['Linguagens'].dropna()\n",
        "\n",
        "#Configuração para juntar redação e linguagens em um gráfico só\n",
        "bins_range = np.arange(200, 1001, 20)\n",
        "sns.set_theme(style='darkgrid')\n",
        "#plotando o grafico\n",
        "plt.figure(figsize=(10, 5))\n",
        "sns.histplot(data = df_red_lin, bins = bins_range, alpha = 0.7, kde = True)\n",
        "plt.title('Histograma de Redação e Linguagens')\n",
        "plt.xlabel('Notas')\n",
        "plt.ylabel('Frequência')\n",
        "plt.show()"
      ],
      "metadata": {
        "colab": {
          "base_uri": "https://localhost:8080/",
          "height": 496
        },
        "id": "4BL266zBLiYo",
        "outputId": "a09b4967-df1f-40af-a32b-429ae95b39d7"
      },
      "execution_count": null,
      "outputs": [
        {
          "output_type": "display_data",
          "data": {
            "text/plain": [
              "<Figure size 1000x500 with 1 Axes>"
            ],
            "image/png": "[encoded data removed]"
          },
          "metadata": {}
        }
      ]
    },
    {
      "cell_type": "markdown",
      "source": [
        "Resposta: A distribuição das notas de Redação parece aproximadamente simétrica, pois a curva tem um formato parecido de ambos os lados da média. Já a distribuição de Linguagens parece assimétrica à esquerda, já que a cauda se estende mais para valores baixos."
      ],
      "metadata": {
        "id": "Icd5mF6Bt9L9"
      }
    },
    {
      "cell_type": "markdown",
      "source": [
        "## Exercicio 7\n",
        "Agora coloque um range fixo de 0 até 1000, você ainda tem a mesma\n",
        "opinião quanto a simetria? [plt.hist(dado, bins=_, range=[0, 1000])"
      ],
      "metadata": {
        "id": "vFPLRgnELisA"
      }
    },
    {
      "cell_type": "code",
      "source": [
        "sns.set_theme(style='darkgrid')\n",
        "# plotando o grafico\n",
        "plt.figure(figsize=(10, 5))\n",
        "sns.histplot(data=df_red_lin, bins=20, alpha=0.7, kde=True)\n",
        "plt.xlim(0, 1000)  # The xlim method is used to set the range on the x-axis\n",
        "plt.title('Histograma de Redação e Linguagens')\n",
        "plt.xlabel('Notas')\n",
        "plt.ylabel('Frequência')\n",
        "plt.show()"
      ],
      "metadata": {
        "id": "KTTN-J6LLldx",
        "colab": {
          "base_uri": "https://localhost:8080/",
          "height": 496
        },
        "outputId": "5e35687b-6f32-4fa9-9a3c-34e3b57a76a3"
      },
      "execution_count": null,
      "outputs": [
        {
          "output_type": "display_data",
          "data": {
            "text/plain": [
              "<Figure size 1000x500 with 1 Axes>"
            ],
            "image/png": "[encoded data removed]"
          },
          "metadata": {}
        }
      ]
    },
    {
      "cell_type": "markdown",
      "source": [
        "Resposta: Sim, pois independente do intervalo, os valores continuam concentrados na média com uma visão mais simétrica."
      ],
      "metadata": {
        "id": "2cKNYqhS9Bym"
      }
    },
    {
      "cell_type": "markdown",
      "source": [
        "## Exercicio 8\n",
        "Faça um boxplot para as notas de Ciências da Natureza e Redação,\n",
        "analisando os quartis e identificando possíveis outliers. Utilize o método\n",
        "IQR (Intervalo Interquartílico) para essa análise.\n"
      ],
      "metadata": {
        "id": "HPVy9if9Llyp"
      }
    },
    {
      "cell_type": "code",
      "source": [
        "# Remover valores nulos\n",
        "df_quartil = df_enem[['Ciências da natureza', 'Redação']].dropna()\n",
        "\n",
        "# boxplot\n",
        "sns.set_theme()\n",
        "plt.figure(figsize = (10, 5))\n",
        "sns.boxplot(data = df_quartil, palette = 'pastel')\n",
        "plt.title('Boxplot das notas de Ciências da Natureza e Redação')\n",
        "plt.ylabel('Notas')\n",
        "plt.show()\n",
        "# Laço para cada disciplina\n",
        "for col in df_quartil.columns:\n",
        "    Q1 = df_quartil[col].quantile(0.25)\n",
        "    Q3 = df_quartil[col].quantile(0.75)\n",
        "    IQR = Q3 - Q1\n",
        "    lower_bound = Q1 - 1.5 * IQR\n",
        "    upper_bound = Q3 + 1.5 * IQR\n",
        "\n",
        "    # Identificando outliers\n",
        "    outliers = df_quartil[(df_quartil[col] < lower_bound) | (df_quartil[col] > upper_bound)][col]\n",
        "\n",
        "    # Imprimindo resultados\n",
        "    print(f'Disciplina: {col}.')\n",
        "    print(f'Número de outliers encontrado: {outliers.count()}.')\n",
        "    print(f'IQR: {IQR}.')\n",
        "    print(f'Valor mínimo: {df_quartil[col].min()}.')\n",
        "    print(f'Valor máximo: {df_quartil[col].max()}.\\n')\n"
      ],
      "metadata": {
        "id": "nbsVVnGVLoSB",
        "colab": {
          "base_uri": "https://localhost:8080/",
          "height": 681
        },
        "outputId": "3f2bd3a5-92ef-4a0d-d11d-71819154313a"
      },
      "execution_count": null,
      "outputs": [
        {
          "output_type": "display_data",
          "data": {
            "text/plain": [
              "<Figure size 1000x500 with 1 Axes>"
            ],
            "image/png": "[encoded data removed]"
          },
          "metadata": {}
        },
        {
          "output_type": "stream",
          "name": "stdout",
          "text": [
            "Disciplina: Ciências da natureza.\n",
            "Número de outliers encontrado: 2.\n",
            "IQR: 105.71203439857504.\n",
            "Valor mínimo: 314.4.\n",
            "Valor máximo: 802.0045683513.\n",
            "\n",
            "Disciplina: Redação.\n",
            "Número de outliers encontrado: 3.\n",
            "IQR: 155.0016325121751.\n",
            "Valor mínimo: 290.3086081677.\n",
            "Valor máximo: 981.0165529826.\n",
            "\n"
          ]
        }
      ]
    },
    {
      "cell_type": "markdown",
      "source": [
        "## Exercicio 9\n",
        "Remova todos os outliers e verifique se eles são passíveis de alterar a\n",
        "média nacional significativamente? (considere significativamente um valor\n",
        "acima de 5%)"
      ],
      "metadata": {
        "id": "AoORlTP-LooJ"
      }
    },
    {
      "cell_type": "code",
      "source": [
        "# Remover valores nulos\n",
        "df_quartil = df_enem[['Ciências da natureza', 'Redação']].dropna()\n",
        "\n",
        "# Função para remover outliers\n",
        "def remover_outliers_iqr(serie):\n",
        "    Q1 = serie.quantile(0.25)\n",
        "    Q3 = serie.quantile(0.75)\n",
        "    IQR = Q3 - Q1\n",
        "    limite_inferior = Q1 - 1.5 * IQR\n",
        "    limite_superior = Q3 + 1.5 * IQR\n",
        "    return serie[(serie >= limite_inferior) & (serie <= limite_superior)]\n",
        "\n",
        "# Análise por disciplina\n",
        "for col in df_quartil.columns:\n",
        "    original = df_quartil[col]\n",
        "    sem_outliers = remover_outliers_iqr(original)\n",
        "\n",
        "    media_original = original.mean()\n",
        "    media_sem_outliers = sem_outliers.mean()\n",
        "    diferenca_percentual = ((media_sem_outliers - media_original) / media_original) * 100\n",
        "\n",
        "    print(f'Disciplina: {col}')\n",
        "    print(f'Média original: {media_original:.2f}')\n",
        "    print(f'Média sem outliers: {media_sem_outliers:.2f}')\n",
        "    print(f'Diferença percentual: {diferenca_percentual:.2f}%')\n",
        "    if abs(diferenca_percentual) > 5:\n",
        "        print('>>> Alteração significativa (>5%)\\n')\n",
        "    else:\n",
        "        print('Sem alteração significativa.\\n')\n",
        "\n",
        "print ('\\nConclusão: A diferença de valores é muito pequena, logo, não há alteração significativa')"
      ],
      "metadata": {
        "id": "xoBjNtVaLrIB",
        "colab": {
          "base_uri": "https://localhost:8080/"
        },
        "outputId": "a35a6dfe-65a2-4522-a12f-15bb6fc1cc98"
      },
      "execution_count": null,
      "outputs": [
        {
          "output_type": "stream",
          "name": "stdout",
          "text": [
            "Disciplina: Ciências da natureza\n",
            "Média original: 501.82\n",
            "Média sem outliers: 501.06\n",
            "Diferença percentual: -0.15%\n",
            "Sem alteração significativa.\n",
            "\n",
            "Disciplina: Redação\n",
            "Média original: 637.91\n",
            "Média sem outliers: 638.37\n",
            "Diferença percentual: 0.07%\n",
            "Sem alteração significativa.\n",
            "\n",
            "\n",
            "Conclusão: A diferença de valores é muito pequena, logo, não há alteração significativa\n"
          ]
        }
      ]
    },
    {
      "cell_type": "markdown",
      "source": [
        "## Exercicio 10\n",
        "Considerando valores nulos, tente encontrar qual seria a melhor medida\n",
        "de tendência que pode substituir as notas nulas. Média, moda ou mediana?\n",
        "Substitua o valor por todos os três e diga qual delas altera menos a média\n",
        "geral e o desvio padrão."
      ],
      "metadata": {
        "id": "ZkrZQdxeLttZ"
      }
    },
    {
      "cell_type": "code",
      "source": [
        "df_original = df_enem.select_dtypes(include = np.number)\n",
        "# criando dicionario para comparação\n",
        "comparacao = {}\n",
        "for col in df_original.columns:\n",
        "    original = df_original[col].dropna()\n",
        "\n",
        "    media_original = original.mean()\n",
        "    desvio_original = original.std()\n",
        "\n",
        "    # Substituições\n",
        "    media_sub = df_original[col].fillna(original.mean())\n",
        "    mediana_sub = df_original[col].fillna(original.median())\n",
        "    moda_valor = original.mode()[0] if not original.mode().empty else original.mean()\n",
        "    moda_sub = df_original[col].fillna(moda_valor)\n",
        "\n",
        "    # Cálculos\n",
        "    resultados = {\n",
        "        'média': {\n",
        "            'média_final': media_sub.mean(),\n",
        "            'desvio_final': media_sub.std()\n",
        "        },\n",
        "        'mediana': {\n",
        "            'média_final': mediana_sub.mean(),\n",
        "            'desvio_final': mediana_sub.std()\n",
        "        },\n",
        "        'moda': {\n",
        "            'média_final': moda_sub.mean(),\n",
        "            'desvio_final': moda_sub.std()\n",
        "        }\n",
        "    }\n",
        "\n",
        "    # Avaliar qual tem menor diferença\n",
        "    melhor_opcao = None\n",
        "    menor_dif = float('inf')\n",
        "\n",
        "    for metodo, stats in resultados.items():\n",
        "        dif_media = abs(stats['média_final'] - media_original)\n",
        "        dif_std = abs(stats['desvio_final'] - desvio_original)\n",
        "        total_dif = dif_media + dif_std\n",
        "\n",
        "        if total_dif < menor_dif:\n",
        "            menor_dif = total_dif\n",
        "            melhor_opcao = metodo\n",
        "\n",
        "    # Guardar os dados\n",
        "    comparacao[col] = {\n",
        "        'média original': round(media_original, 2),\n",
        "        'desvio original': round(desvio_original, 2),\n",
        "        'melhor substituto': melhor_opcao,\n",
        "        'diferença total': round(menor_dif, 4)\n",
        "    }\n",
        "\n",
        "# Mostrar os resultados\n",
        "for disciplina, info in comparacao.items():\n",
        "    print(f\"Disciplina: {disciplina}\")\n",
        "    print(f\"Média original: {info['média original']} | Desvio padrão: {info['desvio original']}\")\n",
        "    print(f\"Melhor substituto: {info['melhor substituto']} (diferença total: {info['diferença total']})\\n\")"
      ],
      "metadata": {
        "id": "YnKfWc9rLvKx",
        "colab": {
          "base_uri": "https://localhost:8080/"
        },
        "outputId": "40cbd57e-b3cc-4fc9-c4b7-f0ee62b8a0ac"
      },
      "execution_count": null,
      "outputs": [
        {
          "output_type": "stream",
          "name": "stdout",
          "text": [
            "Disciplina: Linguagens\n",
            "Média original: 514.52 | Desvio padrão: 84.01\n",
            "Melhor substituto: média (diferença total: 4.4486)\n",
            "\n",
            "Disciplina: Ciências humanas\n",
            "Média original: 527.04 | Desvio padrão: 77.81\n",
            "Melhor substituto: média (diferença total: 2.5337)\n",
            "\n",
            "Disciplina: Ciências da natureza\n",
            "Média original: 499.32 | Desvio padrão: 78.76\n",
            "Melhor substituto: média (diferença total: 7.2737)\n",
            "\n",
            "Disciplina: Matemática\n",
            "Média original: 535.97 | Desvio padrão: 86.65\n",
            "Melhor substituto: média (diferença total: 3.3611)\n",
            "\n",
            "Disciplina: Redação\n",
            "Média original: 637.78 | Desvio padrão: 115.34\n",
            "Melhor substituto: média (diferença total: 8.3868)\n",
            "\n"
          ]
        }
      ]
    }
  ]
}